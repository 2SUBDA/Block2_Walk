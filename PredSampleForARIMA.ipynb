{
  "nbformat": 4,
  "nbformat_minor": 0,
  "metadata": {
    "colab": {
      "name": "PredSampleForARIMA.ipynb",
      "version": "0.3.2",
      "provenance": [],
      "collapsed_sections": [],
      "include_colab_link": true
    },
    "kernelspec": {
      "name": "python3",
      "display_name": "Python 3"
    }
  },
  "cells": [
    {
      "cell_type": "markdown",
      "metadata": {
        "id": "view-in-github",
        "colab_type": "text"
      },
      "source": [
        "<a href=\"https://colab.research.google.com/github/2SUBDA/Block2_Walk/blob/master/PredSampleForARIMA.ipynb\" target=\"_parent\"><img src=\"https://colab.research.google.com/assets/colab-badge.svg\" alt=\"Open In Colab\"/></a>"
      ]
    },
    {
      "metadata": {
        "id": "N5_AejJ-_mYt",
        "colab_type": "code",
        "colab": {}
      },
      "cell_type": "code",
      "source": [
        "# MODEL - Save finalized model\n",
        "# Logic based on DeptOneTimeSeries.ipynb sample \n",
        "\n",
        "# monkey patch around bug in ARIMA class\n",
        "def __getnewargs__(self):\n",
        "    return ((self.endog),(self.k_lags, self.k_diff, self.k_ma))\n",
        "\n",
        "ARIMA.__getnewargs__ = __getnewargs__\n",
        "\n",
        "# create a differenced series\n",
        "def difference(dataset, interval=1):\n",
        "    diff = list()\n",
        "    for i in range(interval, len(dataset)):\n",
        "        value = dataset[i] - dataset[i - interval]\n",
        "        diff.append(value)\n",
        "    return diff\n",
        "\n",
        "# Load the dataset for modeling\n",
        "series = Series.from_csv('dataset.csv', header = 0)\n",
        "\n",
        "# prepare data\n",
        "X = series.values\n",
        "X = X.astype('float32')\n",
        "\n",
        "# difference data\n",
        "months_in_year = 12\n",
        "diff = difference(X, months_in_year)\n",
        "\n",
        "# fit model\n",
        "model = ARIMA(diff, order=(6, 2, 1)) # Using the best RMSE\n",
        "model_fit = model.fit(trend='nc', disp=0)\n",
        "\n",
        "# bias constant, could be calculated from in-sample mean residual\n",
        "bias = 74.2230 # Using the residual model mean as our bias\n",
        "\n",
        "# save model\n",
        "model_fit.save('model.pkl')\n",
        "np.save('model_bias.npy', [bias])"
      ],
      "execution_count": 0,
      "outputs": []
    },
    {
      "metadata": {
        "id": "SrGzJchN_x0V",
        "colab_type": "code",
        "colab": {}
      },
      "cell_type": "code",
      "source": [
        "# Interpret - make one prediction\n",
        "# Logic based on DeptOneTimeSeries.ipynb sample\n",
        "\n",
        "def inverse_difference(history, yhat, interval=1):\n",
        "\treturn yhat + history[-interval]\n",
        "\n",
        "# Load the dataset for prediction\n",
        "series = Series.from_csv('dataset.csv', header = 0)\n",
        "\n",
        "months_in_year = 12\n",
        "model_fit = ARIMAResults.load('model.pkl')\n",
        "bias = np.load('model_bias.npy')\n",
        "yhat = float(model_fit.forecast()[0])\n",
        "yhat = bias + inverse_difference(series.values, yhat, months_in_year)\n",
        "print('Predicted: %.3f' % yhat)"
      ],
      "execution_count": 0,
      "outputs": []
    },
    {
      "metadata": {
        "id": "QcrAhWMf_Ae-",
        "colab_type": "code",
        "colab": {}
      },
      "cell_type": "code",
      "source": [
        "# MODEL - Validating Forecasts\n",
        "# Logic based on DeptOneTimeSeries.ipynb sample \n",
        "\n",
        "# create a differenced series\n",
        "def difference(dataset, interval=1):\n",
        "\tdiff = list()\n",
        "\tfor i in range(interval, len(dataset)):\n",
        "\t\tvalue = dataset[i] - dataset[i - interval]\n",
        "\t\tdiff.append(value)\n",
        "\treturn diff\n",
        "\n",
        "# invert differenced value\n",
        "def inverse_difference(history, yhat, interval=1):\n",
        "\treturn yhat + history[-interval]\n",
        "\n",
        "# load and prepare datasets\n",
        "dataset = Series.from_csv('dataset.csv', header = 0)\n",
        "X = dataset.values.astype('float32')\n",
        "history = [x for x in X]\n",
        "months_in_year = 12\n",
        "validation = Series.from_csv('validation.csv', header = 0)\n",
        "y = validation.values.astype('float32')\n",
        "\n"
      ],
      "execution_count": 0,
      "outputs": []
    },
    {
      "metadata": {
        "id": "JlE75I_s_EMO",
        "colab_type": "code",
        "colab": {}
      },
      "cell_type": "code",
      "source": [
        "# MODEL - Make forward predictions\n",
        "\n",
        "# load model\n",
        "model_fit = ARIMAResults.load('model.pkl')\n",
        "bias = np.load('model_bias.npy')\n",
        "\n",
        "# make first prediction\n",
        "predictions = list()\n",
        "yhat = float(model_fit.forecast()[0])\n",
        "yhat = bias + inverse_difference(history, yhat, months_in_year)\n",
        "predictions.append(yhat)\n",
        "history.append(y[0])\n",
        "print('>Predicted=%.3f, Expected=%3.f' % (yhat, y[0]))\n",
        "\n",
        "# rolling forecasts\n",
        "for i in range(1, len(y)):\n",
        "\t# difference data\n",
        "\tmonths_in_year = 12\n",
        "\tdiff = difference(history, months_in_year)\n",
        "\t# predict\n",
        "\tmodel = ARIMA(diff, order=(6, 2, 1)) # Using the mest ARIMA\n",
        "\tmodel_fit = model.fit(trend='nc', disp=0)\n",
        "\tyhat = model_fit.forecast()[0]\n",
        "\tyhat = bias + inverse_difference(history, yhat, months_in_year)\n",
        "\tpredictions.append(yhat)\n",
        "\t# observation\n",
        "\tobs = y[i]\n",
        "\thistory.append(obs)\n",
        "\tprint('>Predicted=%.3f, Expected=%3.f' % (yhat, obs))\n",
        "\n"
      ],
      "execution_count": 0,
      "outputs": []
    },
    {
      "metadata": {
        "id": "N5i86pIxAJdo",
        "colab_type": "code",
        "colab": {}
      },
      "cell_type": "code",
      "source": [
        "# Interpret - Save and Plot\n",
        "\n",
        "pred_dates = ['2014-01','2014-02', '2014-03']\n",
        "# Send the prediction to csv file    \n",
        "#predictions.to_csv('predictions.csv')\n",
        "\n",
        "# report performance\n",
        "rmse = sqrt(mean_squared_error(y, predictions))\n",
        "print('RMSE: %.3f' % rmse)\n",
        "plt.plot(y)\n",
        "plt.plot(predictions, color='red')\n",
        "plt.title('Predicted Median Home Price vs Actual Home Price')\n",
        "plt.ylabel('Median Home Price')\n",
        "plt.show()"
      ],
      "execution_count": 0,
      "outputs": []
    }
  ]
}