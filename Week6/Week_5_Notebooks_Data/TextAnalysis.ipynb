{
 "cells": [
  {
   "cell_type": "code",
   "execution_count": 1,
   "metadata": {
    "collapsed": true
   },
   "outputs": [],
   "source": [
    "# TEXT ANALYSIS \n",
    "# BASED ON MILLER (2015) and RASCHKA (2015)\n",
    "\n",
    "# import packages for text processing and multivariate analysis\n",
    "import re  # regular expressions\n",
    "import nltk  # draw on the Python natural language toolkit\n",
    "import pandas as pd  # DataFrame structure and operations\n",
    "import numpy as np  # arrays and numerical processing\n",
    "import scipy\n",
    "import matplotlib.pyplot as plt  # 2D plotting\n",
    "\n",
    "# terms-by-documents matrix\n",
    "from sklearn.feature_extraction.text import CountVectorizer\n",
    "\n",
    "# alternative distance metrics for multidimensional scaling\n",
    "from sklearn.metrics import euclidean_distances \n",
    "from sklearn.metrics.pairwise import linear_kernel as cosine_distances\n",
    "from sklearn.metrics.pairwise import manhattan_distances as manhattan_distances\n",
    "\n",
    "from sklearn import manifold  # multidimensional scaling\n",
    "from sklearn.cluster import KMeans  # cluster analysis by partitioning\n",
    "from sklearn.decomposition import PCA  # principal component analysis\n"
   ]
  },
  {
   "cell_type": "code",
   "execution_count": 2,
   "metadata": {
    "collapsed": true
   },
   "outputs": [],
   "source": [
    "# define list of codes to be dropped from documents\n",
    "# carriage-returns, line-feeds, tabs\n",
    "codelist = ['\\r', '\\n', '\\t']    \n",
    "\n",
    "# contractions and other word strings to drop from further analysis, adding\n",
    "# to the usual English stopwords to be dropped from the document collection\n",
    "more_stop_words = ['cant','didnt','doesnt','dont','goes','isnt','hes',\\\n",
    "    'shes','thats','theres','theyre','wont','youll','youre','youve',\\\n",
    "    're','tv','g','us','en','ve','vg','didn','pg','gp','our','we',\n",
    "    'll','film','video','name','years','days','one','two','three',\\\n",
    "    'four','five','six','seven','eight','nine','ten','eleven','twelve'] \n",
    "# start with the initial list and add to it for movie text work \n",
    "stoplist = nltk.corpus.stopwords.words('english') + more_stop_words \n"
   ]
  },
  {
   "cell_type": "code",
   "execution_count": 3,
   "metadata": {
    "collapsed": true
   },
   "outputs": [],
   "source": [
    "# text parsing function for creating text documents \n",
    "# there is more we could do for data preparation \n",
    "# stemming... looking for contractions... possessives... \n",
    "# but we will work with what we have in this parsing function\n",
    "# if we want to do stemming at a later time, we can use\n",
    "#     porter = nltk.PorterStemmer()  \n",
    "# in a construction like this\n",
    "#     words_stemmed =  [porter.stem(word) for word in initial_words]  \n",
    "def text_parse(string):\n",
    "    # replace non-alphanumeric with space \n",
    "    temp_string = re.sub('[^a-zA-Z]', '  ', string)    \n",
    "    # replace codes with space\n",
    "    for i in range(len(codelist)):\n",
    "        stopstring = ' ' + codelist[i] + '  '\n",
    "        temp_string = re.sub(stopstring, '  ', temp_string)      \n",
    "    # replace single-character words with space\n",
    "    temp_string = re.sub('\\s.\\s', ' ', temp_string)   \n",
    "    # convert uppercase to lowercase\n",
    "    temp_string = temp_string.lower()    \n",
    "    # replace selected character strings/stop-words with space\n",
    "    for i in range(len(stoplist)):\n",
    "        stopstring = ' ' + str(stoplist[i]) + ' '\n",
    "        temp_string = re.sub(stopstring, ' ', temp_string)        \n",
    "    # replace multiple blank characters with one blank character\n",
    "    temp_string = re.sub('\\s+', ' ', temp_string)    \n",
    "    return(temp_string)    \n"
   ]
  },
  {
   "cell_type": "code",
   "execution_count": 4,
   "metadata": {
    "collapsed": true
   },
   "outputs": [],
   "source": [
    "# read in the comma-delimited text file with from initial data\n",
    "# preparation... create the movies data frame for analysis\n",
    "movies = pd.read_csv('data/movie_tagline_data_parsed.csv') "
   ]
  },
  {
   "cell_type": "code",
   "execution_count": 5,
   "metadata": {},
   "outputs": [
    {
     "data": {
      "image/png": "[encoded data removed]",
      "text/plain": [
       "<matplotlib.figure.Figure at 0x20f28e22438>"
      ]
     },
     "metadata": {},
     "output_type": "display_data"
    }
   ],
   "source": [
    "# EXPLORATORY DATA ANALYSIS\n",
    "\n",
    "# plot frequency of movies by year... histogram\n",
    "plt.figure()\n",
    "plt.hist(movies['year'], bins= 100)\n",
    "plt.xlabel('Year')\n",
    "plt.ylabel('Number of Movies in Database')\n",
    "plt.show()\n",
    "plt.savefig('fig_text_movies_by_year_histogram.pdf', \n",
    "    bbox_inches = 'tight', dpi=None, facecolor='w', edgecolor='b', \n",
    "    orientation='landscape', papertype=None, format=None, \n",
    "    transparent=True, pad_inches=0.25, frameon=None)  "
   ]
  },
  {
   "cell_type": "code",
   "execution_count": 6,
   "metadata": {},
   "outputs": [
    {
     "name": "stderr",
     "output_type": "stream",
     "text": [
      "C:\\Users\\datab\\Anaconda3\\lib\\site-packages\\ipykernel_launcher.py:12: DeprecationWarning: \n",
      ".ix is deprecated. Please use\n",
      ".loc for label based indexing or\n",
      ".iloc for positional indexing\n",
      "\n",
      "See the documentation here:\n",
      "http://pandas.pydata.org/pandas-docs/stable/indexing.html#ix-indexer-is-deprecated\n",
      "  if sys.path[0] == '':\n"
     ]
    }
   ],
   "source": [
    "# we work with movies from 1974 to 2013\n",
    "# create aggregate tagline_text collection for each year of interest\n",
    "year = []  # initialize year list\n",
    "tagline_text = []  # initialize aggregate tagline text\n",
    "parsed_text = []  # parsed tagline text for subsequent analysis \n",
    "aggregate_document = ''  # intialize aggregate taglines document\n",
    "for iyear in range(1974,2014):\n",
    "    year.append(iyear)\n",
    "    gather_taglines = ''  # initialize aggregate tagline text\n",
    "    this_year_data_frame = movies[movies['year'] == iyear]\n",
    "    for this_record_index in this_year_data_frame.index.values:\n",
    "        this_record = this_year_data_frame.ix[this_record_index]\n",
    "        gather_taglines = gather_taglines + this_record['tagline']    \n",
    "    tagline_text.append(gather_taglines)\n",
    "    parsed_text.append(text_parse(gather_taglines))\n",
    "    aggregate_document = aggregate_document + gather_taglines\n",
    "big_bag_of_words = text_parse(aggregate_document)\n",
    "    \n",
    "# create document collection... 40 years of data = 40 documents\n",
    "tagline_data = {'year': year, 'tagline_text':tagline_text,\\\n",
    "    'parsed_text':parsed_text}        \n",
    "tagline_data_frame = pd.DataFrame(tagline_data)"
   ]
  },
  {
   "cell_type": "code",
   "execution_count": 7,
   "metadata": {},
   "outputs": [
    {
     "name": "stdout",
     "output_type": "stream",
     "text": [
      "\n",
      "Top 200 words in movie taglines database\n",
      "\n",
      "<map object at 0x0000020F21ED3BA8>\n"
     ]
    }
   ],
   "source": [
    "# create terms-by-documents matrix from the parsed text\n",
    "# extracting the top 200 words in the tagline corpus\n",
    "tdm_method = CountVectorizer(max_features = 200, binary = True)\n",
    "examine_movies_tdm = tdm_method.fit(parsed_text)\n",
    "top_words = examine_movies_tdm.get_feature_names()\n",
    "\n",
    "# get clean printing of the top words \n",
    "print('\\nTop 200 words in movie taglines database\\n')\n",
    "print(map(lambda t: t.encode('ascii'), top_words))  # print sans unicode\n",
    "\n",
    "# extract the terms-by-documents matrix \n",
    "# in scipy compressed sparse column format\n",
    "sparse_movies_tdm = tdm_method.fit_transform(parsed_text)\n",
    "# convert sparse matrix into regular terms-by-documents matrix\n",
    "movies_tdm = sparse_movies_tdm.todense()\n",
    "# define the documents-by-terms matrix \n",
    "movies_dtm = movies_tdm.transpose()"
   ]
  },
  {
   "cell_type": "code",
   "execution_count": 8,
   "metadata": {
    "collapsed": true
   },
   "outputs": [],
   "source": [
    "# dissimilarity measures and multidimensional scaling\n",
    "# consider alternative pairwise distance metrics from sklearn modules\n",
    "# euclidean_distances, cosine_distances, manhattan_distances (city-block)\n",
    "# note that different metrics provide different solutions\n",
    "# movies_distance_matrix = euclidean_distances(movies_tdm)\n",
    "# movies_distance_matrix = manhattan_distances(movies_tdm)\n",
    "movies_distance_matrix = cosine_distances(movies_tdm)\n",
    "\n",
    "mds_method = manifold.MDS(n_components = 2, random_state = 9999,\\\n",
    "    dissimilarity = 'precomputed')\n",
    "mds_fit = mds_method.fit(movies_distance_matrix)  \n",
    "mds_coordinates = mds_method.fit_transform(movies_distance_matrix) "
   ]
  },
  {
   "cell_type": "code",
   "execution_count": 9,
   "metadata": {},
   "outputs": [
    {
     "data": {
      "text/plain": [
       "<matplotlib.figure.Figure at 0x20f23a6e2b0>"
      ]
     },
     "metadata": {},
     "output_type": "display_data"
    },
    {
     "data": {
      "image/png": "[encoded data removed]",
      "text/plain": [
       "<matplotlib.figure.Figure at 0x20f2620a860>"
      ]
     },
     "metadata": {},
     "output_type": "display_data"
    }
   ],
   "source": [
    "# plot tagline text for years in two dimensions \n",
    "# defined by multidimensional scaling\n",
    "plt.figure()\n",
    "plt.scatter(mds_coordinates[:,0],mds_coordinates[:,1],\\\n",
    "    facecolors = 'none', edgecolors = 'none')  # plots points in white (invisible)\n",
    "labels = []\n",
    "for iyear in range(1974,2014):\n",
    "    labels.append(str(iyear))  \n",
    "for label, x, y in zip(labels, mds_coordinates[:,0], mds_coordinates[:,1]):\n",
    "    plt.annotate(label, (x,y), xycoords = 'data')\n",
    "plt.xlabel('First Dimension')\n",
    "plt.ylabel('Second Dimension')    \n",
    "plt.show()\n",
    "plt.savefig('fig_text_mds_1974_2013.pdf', \n",
    "    bbox_inches = 'tight', dpi=None, facecolor='w', edgecolor='b', \n",
    "    orientation='landscape', papertype=None, format=None, \n",
    "    transparent=True, pad_inches=0.25, frameon=None)  "
   ]
  },
  {
   "cell_type": "code",
   "execution_count": 10,
   "metadata": {},
   "outputs": [
    {
     "name": "stdout",
     "output_type": "stream",
     "text": [
      "\n",
      " Top Words in Cluster : 0 ------------------------------\n",
      "     cluster  dist_to_0  dist_to_1  dist_to_2  dist_to_3  dist_to_4    word\n",
      "171        0   1.339175   1.954291   1.619526   1.804547   1.653595  things\n",
      "189        0   1.405420   2.289171   2.140572   1.989747   2.521780    wild\n",
      "135        0   1.529328   2.171172   2.062891   2.082660   2.117634    past\n",
      "133        0   1.558766   2.412313   2.305806   1.982944   2.287876   party\n",
      "162        2   1.558766   1.582233   1.381514   1.656164   2.027159    stop\n",
      "\n",
      " Top Words in Cluster : 1 ------------------------------\n",
      "     cluster  dist_to_0  dist_to_1  dist_to_2  dist_to_3  dist_to_4   word\n",
      "71         2   1.851959   1.065383   1.025396   1.528880   1.690969  girls\n",
      "183        2   1.851959   1.065383   1.025396   1.528880   1.690969   want\n",
      "73         1   2.061052   1.137074   1.388880   1.766708   1.964529  going\n",
      "83         1   2.016461   1.204504   1.366661   1.766708   1.727534   high\n",
      "199        2   1.671343   1.247435   0.303732   1.224596   1.494783  young\n",
      "\n",
      " Top Words in Cluster : 2 ------------------------------\n",
      "     cluster  dist_to_0  dist_to_1  dist_to_2  dist_to_3  dist_to_4   word\n",
      "199        2   1.671343   1.247435   0.303732   1.224596   1.494783  young\n",
      "69         2   1.671343   1.247435   0.303732   1.224596   1.494783    get\n",
      "121        2   1.671343   1.247435   0.303732   1.224596   1.494783  movie\n",
      "116        2   1.671343   1.247435   0.303732   1.224596   1.494783    men\n",
      "112        2   1.671343   1.247435   0.303732   1.224596   1.494783    man\n",
      "\n",
      " Top Words in Cluster : 3 ------------------------------\n",
      "     cluster  dist_to_0  dist_to_1  dist_to_2  dist_to_3  dist_to_4  \\\n",
      "47         3   1.698322   1.565513   1.045109   0.706848   1.727534   \n",
      "51         3   1.698322   1.565513   1.045109   0.706848   1.727534   \n",
      "197        3   1.698322   1.565513   1.045109   0.706848   1.727534   \n",
      "68         3   1.698322   1.565513   1.045109   0.706848   1.727534   \n",
      "76         3   1.698322   1.565513   1.045109   0.706848   1.727534   \n",
      "\n",
      "           word  \n",
      "47   everything  \n",
      "51       family  \n",
      "197        year  \n",
      "68         game  \n",
      "76        great  \n",
      "\n",
      " Top Words in Cluster : 4 ------------------------------\n",
      "     cluster  dist_to_0  dist_to_1  dist_to_2  dist_to_3  dist_to_4    word\n",
      "96         2   1.947662   1.514244   1.015396   1.528880   1.268611    know\n",
      "81         2   1.947662   1.514244   1.015396   1.528880   1.268611    hell\n",
      "17         2   1.671343   1.770605   1.289838   1.520015   1.316957     big\n",
      "16         2   1.698322   1.565513   0.963840   1.340497   1.363589  beyond\n",
      "118        2   1.698322   1.565513   0.963840   1.340497   1.363589    mind\n"
     ]
    },
    {
     "name": "stderr",
     "output_type": "stream",
     "text": [
      "C:\\Users\\datab\\Anaconda3\\lib\\site-packages\\ipykernel_launcher.py:14: FutureWarning: by argument to sort_index is deprecated, pls use .sort_values(by=...)\n",
      "  \n"
     ]
    }
   ],
   "source": [
    "# use transpose of the terms-by-document matrix and cluster analysis\n",
    "# try five clusters/groups of words\n",
    "clustering_method = KMeans(n_clusters = 5, random_state = 9999) \n",
    "clustering_solution = clustering_method.fit(movies_dtm)\n",
    "cluster_membership = clustering_method.predict(movies_dtm)\n",
    "word_distance_to_center = clustering_method.transform(movies_dtm)\n",
    "\n",
    "# top words data frame for reporting k-means clustering results\n",
    "top_words_data = {'word': top_words, 'cluster': cluster_membership,\\\n",
    "    'dist_to_0': word_distance_to_center[0:,0],\\\n",
    "    'dist_to_1': word_distance_to_center[0:,1],\\\n",
    "    'dist_to_2': word_distance_to_center[0:,2],\\\n",
    "    'dist_to_3': word_distance_to_center[0:,3],\\\n",
    "    'dist_to_4': word_distance_to_center[0:,4]}\n",
    "distance_name_list = ['dist_to_0','dist_to_1','dist_to_2','dist_to_3','dist_to_4']    \n",
    "top_words_data_frame = pd.DataFrame(top_words_data)\n",
    "for cluster in range(5):\n",
    "    words_in_cluster =\\\n",
    "        top_words_data_frame[top_words_data_frame['cluster'] == cluster] \n",
    "    sorted_data_frame =\\\n",
    "        top_words_data_frame.sort_index(by = distance_name_list[cluster],\\\n",
    "        ascending = True)\n",
    "    print('\\n Top Words in Cluster :',cluster,'------------------------------')\n",
    "    print(sorted_data_frame.head())\n",
    "    "
   ]
  },
  {
   "cell_type": "code",
   "execution_count": 11,
   "metadata": {
    "collapsed": true
   },
   "outputs": [],
   "source": [
    "# could examine possible clustering solutions with partitioning\n",
    "# by changing the n_clusters setting for KMeans\n",
    "\n",
    "# a five-cluster solution seems to make sense with words\n",
    "# toward the center of each cluster fitting together\n",
    "# let's use pairs of top words from each cluster to name the clusters\n",
    "# cluster index 0: forever-hero\n",
    "# cluster index 1: best-high\n",
    "# cluster index 2: young-comedy\n",
    "# cluster index 3: everything-family\n",
    "# cluster index 4: going-real\n",
    "\n",
    "# name the clusters in the top words data frame\n",
    "cluster_to_name = {0:'forever-hero',\\\n",
    "    1:'best-high', 2:'young-comedy',\\\n",
    "    3:'everything-family', 4:'going-real'}\n",
    "top_words_data_frame['cluster_name'] = top_words_data_frame['cluster'].map(cluster_to_name)"
   ]
  },
  {
   "cell_type": "code",
   "execution_count": 12,
   "metadata": {
    "collapsed": true
   },
   "outputs": [],
   "source": [
    "# use word clusters to define text measures...\n",
    "# in particular, let the raw score for a cluster for a year be the percentage\n",
    "# of words in that year's tagline documents that fall within the cluster\n",
    "# then to examine movies in time, standardize cluster scores across the\n",
    "# forty years of the study and plot as a multiple time series\n",
    "forever_hero_df =\\\n",
    "    top_words_data_frame[top_words_data_frame['cluster'] == 0]     \n",
    "forever_hero_word_list = str(forever_hero_df['word'])  \n",
    "\n",
    "best_high_df =\\\n",
    "    top_words_data_frame[top_words_data_frame['cluster'] == 1]     \n",
    "best_high_word_list = str(best_high_df['word'])  \n",
    "\n",
    "young_comedy_df =\\\n",
    "    top_words_data_frame[top_words_data_frame['cluster'] == 2]     \n",
    "young_comedy_word_list = str(young_comedy_df['word'])  \n",
    "\n",
    "everything_family_df =\\\n",
    "    top_words_data_frame[top_words_data_frame['cluster'] == 3]     \n",
    "everything_family_word_list = str(everything_family_df['word'])  \n",
    "\n",
    "going_real_df =\\\n",
    "    top_words_data_frame[top_words_data_frame['cluster'] == 4]     \n",
    "going_real_word_list = str(going_real_df['word'])  "
   ]
  },
  {
   "cell_type": "code",
   "execution_count": 13,
   "metadata": {},
   "outputs": [
    {
     "name": "stdout",
     "output_type": "stream",
     "text": [
      "              year  best_high  best_high_words  everything_family  \\\n",
      "count    40.000000  40.000000        40.000000          40.000000   \n",
      "mean   1993.500000   7.346018       379.800000           8.821036   \n",
      "std      11.690452   0.726043       353.594234           1.081050   \n",
      "min    1974.000000   5.962411        83.000000           4.182754   \n",
      "25%    1983.750000   7.011300       122.750000           8.567324   \n",
      "50%    1993.500000   7.420428       169.500000           8.993918   \n",
      "75%    2003.250000   7.808448       583.750000           9.341642   \n",
      "max    2013.000000   8.721751      1237.000000          10.364146   \n",
      "\n",
      "       everything_family_words  forever_hero  forever_hero_words  going_real  \\\n",
      "count                40.000000     40.000000           40.000000   40.000000   \n",
      "mean                452.750000      1.841238           94.650000    2.666865   \n",
      "std                 416.035486      0.453633           87.580454    0.504280   \n",
      "min                  65.000000      0.752233           16.000000    1.235330   \n",
      "25%                 153.500000      1.627187           31.250000    2.357318   \n",
      "50%                 232.500000      1.876793           46.500000    2.639553   \n",
      "75%                 712.500000      2.030773          153.750000    3.033384   \n",
      "max                1438.000000      3.564485          323.000000    3.823720   \n",
      "\n",
      "       going_real_words   total_words  young_comedy  young_comedy_words  \n",
      "count         40.000000     40.000000     40.000000           40.000000  \n",
      "mean         128.425000   5063.175000     15.428047          750.050000  \n",
      "std          109.921158   4694.148555      1.121996          656.919889  \n",
      "min           20.000000   1322.000000     13.819227          199.000000  \n",
      "25%           48.000000   1789.500000     14.420430          284.750000  \n",
      "50%           66.000000   2395.000000     15.374558          373.500000  \n",
      "75%          202.500000   7461.000000     16.155124         1088.000000  \n",
      "max          374.000000  16670.000000     18.033999         2384.000000  \n",
      "                                         parsed_text  \\\n",
      "0   funniest police shows ever funniest police co...   \n",
      "1   mosaiken und fresken als zeugen der geschicht...   \n",
      "2   let poisons lurk mud hatch maryland lottery l...   \n",
      "3   soup rob old tricks get ready match stars may...   \n",
      "4   searching star called earth first win great w...   \n",
      "\n",
      "                                        tagline_text  year  best_high  \\\n",
      "0    One of the Funniest Police Shows Ever One of...  1974   7.776428   \n",
      "1    Mosaiken und Fresken als Zeugen der Geschich...  1975   7.189542   \n",
      "2    Let all the poisons that lurk in the mud hat...  1976   7.915058   \n",
      "3    Soup and Rob are up to their old tricks agai...  1977   6.134516   \n",
      "4    They were searching for a star called Earth,...  1978   6.701031   \n",
      "\n",
      "   best_high_words  everything_family  everything_family_words  forever_hero  \\\n",
      "0              128           8.323208                      137      1.336574   \n",
      "1              110           7.124183                      109      1.830065   \n",
      "2              123           4.182754                       65      1.351351   \n",
      "3               83           7.760532                      105      1.404287   \n",
      "4              104           7.667526                      119      1.159794   \n",
      "\n",
      "   forever_hero_words  going_real  going_real_words  total_words  \\\n",
      "0                  22    2.855407                47         1646   \n",
      "1                  28    3.071895                47         1530   \n",
      "2                  21    2.445302                38         1554   \n",
      "3                  19    3.104213                42         1353   \n",
      "4                  18    1.675258                26         1552   \n",
      "\n",
      "   young_comedy  young_comedy_words  \n",
      "0     17.314702                 285  \n",
      "1     14.575163                 223  \n",
      "2     15.508366                 241  \n",
      "3     18.033999                 244  \n",
      "4     14.239691                 221  \n",
      "                                          parsed_text  \\\n",
      "35   pillars love triangle twin cities locally pro...   \n",
      "36   alice important date healing broken heart hil...   \n",
      "37   shook chile neighborhood lifestyle dollar chr...   \n",
      "38   movie unrated uncensored first family comedy ...   \n",
      "39   pretty outside ugly crying inside jash gave c...   \n",
      "\n",
      "                                         tagline_text  year  best_high  \\\n",
      "35    The Pillars of a Love Triangle  The Twin Cit...  2009   7.420516   \n",
      "36    all about Alice and her very important date(...  2010   7.452807   \n",
      "37    12 days that shook Chile  It's not just a ne...  2011   7.590238   \n",
      "38    The Movie Unrated And Uncensored  The First ...  2012   7.435579   \n",
      "39    Pretty on the outside, ugly-crying on the in...  2013   7.445141   \n",
      "\n",
      "    best_high_words  everything_family  everything_family_words  forever_hero  \\\n",
      "35             1237           8.626275                     1438      1.637672   \n",
      "36              912           8.580534                     1050      1.895890   \n",
      "37              961           8.996130                     1139      1.785009   \n",
      "38              958           8.685191                     1119      1.971437   \n",
      "39              570           9.326019                      714      1.946186   \n",
      "\n",
      "    forever_hero_words  going_real  going_real_words  total_words  \\\n",
      "35                 273    2.243551               374        16670   \n",
      "36                 232    2.386206               292        12237   \n",
      "37                 226    2.401074               304        12661   \n",
      "38                 254    2.281900               294        12884   \n",
      "39                 149    2.599269               199         7656   \n",
      "\n",
      "    young_comedy  young_comedy_words  \n",
      "35     14.301140                2384  \n",
      "36     14.456158                1769  \n",
      "37     14.130006                1789  \n",
      "38     14.157094                1824  \n",
      "39     13.819227                1058  \n"
     ]
    }
   ],
   "source": [
    "# cluster scores as percentage of total words\n",
    "def cluster_scoring(cluster_count, total_count):\n",
    "    return (100 * (cluster_count/total_count))\n",
    "                                                                    \n",
    "# initialize word counts    \n",
    "forever_hero_words = []; best_high_words = []; young_comedy_words = []; \n",
    "everything_family_words = []; going_real_words = []; total_words = []\n",
    "# initialize cluster scores\n",
    "forever_hero = []; best_high = []; young_comedy = []; \n",
    "everything_family = []; going_real = []\n",
    "# compute text measures for each year\n",
    "for iyear in range(len(year)):\n",
    "    text = parsed_text[iyear]  # this year's text for scoring\n",
    "    total_count = len([w for w in text.split()])\n",
    "    total_words.append(total_count)\n",
    "    \n",
    "    forever_hero_count =\\\n",
    "        len([w for w in text.split() if w in forever_hero_word_list])\n",
    "    forever_hero_words.append(forever_hero_count)\n",
    "    forever_hero.append(cluster_scoring(forever_hero_count, total_count))\n",
    "    \n",
    "    best_high_count =\\\n",
    "         len([w for w in text.split() if w in best_high_word_list])\n",
    "    best_high_words.append(best_high_count)\n",
    "    best_high.append(cluster_scoring(best_high_count, total_count))\n",
    "    \n",
    "    young_comedy_count =\\\n",
    "        len([w for w in text.split() if w in young_comedy_word_list])\n",
    "    young_comedy_words.append(young_comedy_count)\n",
    "    young_comedy.append(cluster_scoring(young_comedy_count, total_count))    \n",
    "        \n",
    "    everything_family_count =\\\n",
    "        len([w for w in text.split() if w in everything_family_word_list])\n",
    "    everything_family_words.append(everything_family_count)\n",
    "    everything_family.append\\\n",
    "        (cluster_scoring(everything_family_count, total_count))    \n",
    "        \n",
    "    going_real_count =\\\n",
    "        len([w for w in text.split() if w in going_real_word_list])    \n",
    "    going_real_words.append(going_real_count)\n",
    "    going_real.append(cluster_scoring(going_real_count, total_count))   \n",
    "\n",
    "add_cluster_data = {'total_words':total_words,\\\n",
    "    'forever_hero_words':forever_hero_words,\\\n",
    "    'forever_hero':forever_hero,\\\n",
    "    'best_high_words':best_high_words,\\\n",
    "    'best_high':best_high,\\\n",
    "    'young_comedy_words':young_comedy_words,\\\n",
    "    'young_comedy':young_comedy,\\\n",
    "    'everything_family_words':everything_family_words,\\\n",
    "    'everything_family':everything_family,\\\n",
    "    'going_real_words':going_real_words,\\\n",
    "    'going_real':going_real}   \n",
    "add_cluster_data_frame = pd.DataFrame(add_cluster_data)      \n",
    "tagline_data_frame =\\\n",
    "    pd.concat([tagline_data_frame,add_cluster_data_frame],axis=1) \n",
    "\n",
    "# check text measure calculations\n",
    "print(tagline_data_frame.describe())\n",
    "print(tagline_data_frame.head())\n",
    "print(tagline_data_frame.tail())\n"
   ]
  },
  {
   "cell_type": "code",
   "execution_count": 14,
   "metadata": {},
   "outputs": [
    {
     "name": "stdout",
     "output_type": "stream",
     "text": [
      "                                         parsed_text  \\\n",
      "0   funniest police shows ever funniest police co...   \n",
      "1   mosaiken und fresken als zeugen der geschicht...   \n",
      "2   let poisons lurk mud hatch maryland lottery l...   \n",
      "3   soup rob old tricks get ready match stars may...   \n",
      "4   searching star called earth first win great w...   \n",
      "\n",
      "                                        tagline_text  year  best_high  \\\n",
      "0    One of the Funniest Police Shows Ever One of...  1974   7.776428   \n",
      "1    Mosaiken und Fresken als Zeugen der Geschich...  1975   7.189542   \n",
      "2    Let all the poisons that lurk in the mud hat...  1976   7.915058   \n",
      "3    Soup and Rob are up to their old tricks agai...  1977   6.134516   \n",
      "4    They were searching for a star called Earth,...  1978   6.701031   \n",
      "\n",
      "   best_high_words  everything_family  everything_family_words  forever_hero  \\\n",
      "0              128           8.323208                      137      1.336574   \n",
      "1              110           7.124183                      109      1.830065   \n",
      "2              123           4.182754                       65      1.351351   \n",
      "3               83           7.760532                      105      1.404287   \n",
      "4              104           7.667526                      119      1.159794   \n",
      "\n",
      "   forever_hero_words  going_real  going_real_words  total_words  \\\n",
      "0                  22    2.855407                47         1646   \n",
      "1                  28    3.071895                47         1530   \n",
      "2                  21    2.445302                38         1554   \n",
      "3                  19    3.104213                42         1353   \n",
      "4                  18    1.675258                26         1552   \n",
      "\n",
      "   young_comedy  young_comedy_words  \n",
      "0     17.314702                 285  \n",
      "1     14.575163                 223  \n",
      "2     15.508366                 241  \n",
      "3     18.033999                 244  \n",
      "4     14.239691                 221  \n",
      "                                          parsed_text  \\\n",
      "35   pillars love triangle twin cities locally pro...   \n",
      "36   alice important date healing broken heart hil...   \n",
      "37   shook chile neighborhood lifestyle dollar chr...   \n",
      "38   movie unrated uncensored first family comedy ...   \n",
      "39   pretty outside ugly crying inside jash gave c...   \n",
      "\n",
      "                                         tagline_text  year  best_high  \\\n",
      "35    The Pillars of a Love Triangle  The Twin Cit...  2009   7.420516   \n",
      "36    all about Alice and her very important date(...  2010   7.452807   \n",
      "37    12 days that shook Chile  It's not just a ne...  2011   7.590238   \n",
      "38    The Movie Unrated And Uncensored  The First ...  2012   7.435579   \n",
      "39    Pretty on the outside, ugly-crying on the in...  2013   7.445141   \n",
      "\n",
      "    best_high_words  everything_family  everything_family_words  forever_hero  \\\n",
      "35             1237           8.626275                     1438      1.637672   \n",
      "36              912           8.580534                     1050      1.895890   \n",
      "37              961           8.996130                     1139      1.785009   \n",
      "38              958           8.685191                     1119      1.971437   \n",
      "39              570           9.326019                      714      1.946186   \n",
      "\n",
      "    forever_hero_words  going_real  going_real_words  total_words  \\\n",
      "35                 273    2.243551               374        16670   \n",
      "36                 232    2.386206               292        12237   \n",
      "37                 226    2.401074               304        12661   \n",
      "38                 254    2.281900               294        12884   \n",
      "39                 149    2.599269               199         7656   \n",
      "\n",
      "    young_comedy  young_comedy_words  \n",
      "35     14.301140                2384  \n",
      "36     14.456158                1769  \n",
      "37     14.130006                1789  \n",
      "38     14.157094                1824  \n",
      "39     13.819227                1058  \n"
     ]
    }
   ],
   "source": [
    "print(tagline_data_frame.head())\n",
    "print(tagline_data_frame.tail())"
   ]
  },
  {
   "cell_type": "code",
   "execution_count": 15,
   "metadata": {
    "collapsed": true
   },
   "outputs": [],
   "source": [
    "# compute text measure standard scores across years \n",
    "tagline_data_frame['z_forever_hero'] =\\\n",
    "    tagline_data_frame['forever_hero'].\\\n",
    "    apply(lambda d: (d - tagline_data_frame['forever_hero'].mean())/\\\n",
    "    tagline_data_frame['forever_hero'].std())\n",
    "    \n",
    "tagline_data_frame['z_best_high'] =\\\n",
    "    tagline_data_frame['best_high'].\\\n",
    "    apply(lambda d: (d - tagline_data_frame['best_high'].mean())/\\\n",
    "    tagline_data_frame['best_high'].std())    \n",
    "    \n",
    "tagline_data_frame['z_young_comedy'] =\\\n",
    "    tagline_data_frame['young_comedy'].\\\n",
    "    apply(lambda d: (d - tagline_data_frame['young_comedy'].mean())/\\\n",
    "    tagline_data_frame['young_comedy'].std())    \n",
    "\n",
    "tagline_data_frame['z_everything_family'] =\\\n",
    "    tagline_data_frame['everything_family'].\\\n",
    "    apply(lambda d: (d - tagline_data_frame['everything_family'].mean())/\\\n",
    "    tagline_data_frame['everything_family'].std())    \n",
    "        \n",
    "tagline_data_frame['z_going_real'] =\\\n",
    "    tagline_data_frame['going_real'].\\\n",
    "    apply(lambda d: (d - tagline_data_frame['going_real'].mean())/\\\n",
    "    tagline_data_frame['going_real'].std())            \n",
    "                "
   ]
  },
  {
   "cell_type": "code",
   "execution_count": 16,
   "metadata": {},
   "outputs": [
    {
     "data": {
      "text/plain": [
       "<matplotlib.figure.Figure at 0x20f27069d68>"
      ]
     },
     "metadata": {},
     "output_type": "display_data"
    },
    {
     "data": {
      "image/png": "[encoded data removed]",
      "text/plain": [
       "<matplotlib.figure.Figure at 0x20f270196d8>"
      ]
     },
     "metadata": {},
     "output_type": "display_data"
    }
   ],
   "source": [
    "# prepare data frame for multiple time series plot\n",
    "prelim_mts = pd.DataFrame(tagline_data_frame, columns =\\\n",
    "    ['year', 'z_forever_hero', 'z_best_high', 'z_young_comedy',\\\n",
    "    'z_everything_family', 'z_going_real'])\n",
    "prelim_mts.rename(columns = {'z_forever_hero':'Forever-Hero',\\\n",
    "    'z_best_high':'Best-High', 'z_young_comedy':'Young-Comedy',\\\n",
    "    'z_everything_family':'Everything-Family',\\\n",
    "    'z_going_real':'Going-Real'}, inplace = True)\n",
    "mts = prelim_mts.set_index('year')    \n",
    "\n",
    "# generate the plot  \n",
    "mts.plot()\n",
    "plt.xlabel('')\n",
    "plt.ylabel('Standardized Text Measure')\n",
    "plt.show()\n",
    "plt.savefig('fig_text_mts_1974_2013.pdf', \n",
    "    bbox_inches = 'tight', dpi=None,  \n",
    "    orientation='portrait', papertype=None, format=None, \n",
    "    transparent=True, pad_inches=0.25, frameon=None)  \n",
    "    "
   ]
  },
  {
   "cell_type": "code",
   "execution_count": null,
   "metadata": {
    "collapsed": true
   },
   "outputs": [],
   "source": []
  }
 ],
 "metadata": {
  "kernelspec": {
   "display_name": "Python 3",
   "language": "python",
   "name": "python3"
  },
  "language_info": {
   "codemirror_mode": {
    "name": "ipython",
    "version": 3
   },
   "file_extension": ".py",
   "mimetype": "text/x-python",
   "name": "python",
   "nbconvert_exporter": "python",
   "pygments_lexer": "ipython3",
   "version": "3.6.2"
  }
 },
 "nbformat": 4,
 "nbformat_minor": 2
}
