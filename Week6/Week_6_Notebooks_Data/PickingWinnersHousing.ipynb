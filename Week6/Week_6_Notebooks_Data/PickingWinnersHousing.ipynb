{
 "cells": [
  {
   "cell_type": "code",
   "execution_count": 1,
   "metadata": {
    "collapsed": true
   },
   "outputs": [],
   "source": [
    "# CHOOSING HOUSING VALUES\n",
    "# BASED ON MILLER (2015)"
   ]
  },
  {
   "cell_type": "code",
   "execution_count": 2,
   "metadata": {},
   "outputs": [
    {
     "name": "stderr",
     "output_type": "stream",
     "text": [
      "C:\\Users\\datab\\Anaconda3\\lib\\site-packages\\statsmodels\\compat\\pandas.py:56: FutureWarning: The pandas.core.datetools module is deprecated and will be removed in a future version. Please use the pandas.tseries module instead.\n",
      "  from pandas.core import datetools\n"
     ]
    }
   ],
   "source": [
    "# import packages for analysis and modeling\n",
    "import pandas as pd  # data frame operations\n",
    "from pandas.tools.plotting import scatter_matrix  # scatter plot matrix\n",
    "from pandas import Series\n",
    "import numpy as np  # arrays and math functions\n",
    "from scipy.stats import uniform  # for training-and-test split\n",
    "import statsmodels.api as sm  # statistical models (including regression)\n",
    "import statsmodels.formula.api as smf  # R-like model specification\n",
    "from sklearn.tree import DecisionTreeRegressor  # machine learning tree\n",
    "from sklearn.ensemble import RandomForestRegressor # ensemble method\n",
    "from matplotlib import pyplot"
   ]
  },
  {
   "cell_type": "code",
   "execution_count": 3,
   "metadata": {},
   "outputs": [
    {
     "name": "stdout",
     "output_type": "stream",
     "text": [
      "(20640, 9)\n",
      "        value  income   age   rooms  bedrooms     pop      hh  latitude  \\\n",
      "idx                                                                       \n",
      "0    452600.0  8.3252  41.0   880.0     129.0   322.0   126.0     37.88   \n",
      "1    358500.0  8.3014  21.0  7099.0    1106.0  2401.0  1138.0     37.86   \n",
      "2    352100.0  7.2574  52.0  1467.0     190.0   496.0   177.0     37.85   \n",
      "3    341300.0  5.6431  52.0  1274.0     235.0   558.0   219.0     37.85   \n",
      "4    342200.0  3.8462  52.0  1627.0     280.0   565.0   259.0     37.85   \n",
      "\n",
      "     longitude  \n",
      "idx             \n",
      "0      -122.23  \n",
      "1      -122.22  \n",
      "2      -122.24  \n",
      "3      -122.25  \n",
      "4      -122.25  \n"
     ]
    }
   ],
   "source": [
    "# read in the housing data with white-space delimiters\n",
    "prelim_houses = pd.read_table('data/houses_data.txt', header = None, \\\n",
    "     delim_whitespace = True, skipinitialspace = True, \\\n",
    "     names = ['value', 'income', 'age', 'rooms', 'bedrooms', \\\n",
    "     'pop', 'hh', 'latitude', 'longitude'])\n",
    "prelim_houses['idx'] = range(len(prelim_houses))  # for use as index\n",
    "houses = prelim_houses.set_index(['idx']) \n",
    "     \n",
    "print(houses.shape)  # check the structure of the data frame\n",
    "print(houses.head())"
   ]
  },
  {
   "cell_type": "code",
   "execution_count": 4,
   "metadata": {},
   "outputs": [
    {
     "name": "stdout",
     "output_type": "stream",
     "text": [
      "               value        income           age         rooms      bedrooms  \\\n",
      "count   20640.000000  20640.000000  20640.000000  20640.000000  20640.000000   \n",
      "mean   206855.816909      3.870671     28.639486   2635.763081    537.898014   \n",
      "std    115395.615874      1.899822     12.585558   2181.615252    421.247906   \n",
      "min     14999.000000      0.499900      1.000000      2.000000      1.000000   \n",
      "25%    119600.000000      2.563400     18.000000   1447.750000    295.000000   \n",
      "50%    179700.000000      3.534800     29.000000   2127.000000    435.000000   \n",
      "75%    264725.000000      4.743250     37.000000   3148.000000    647.000000   \n",
      "max    500001.000000     15.000100     52.000000  39320.000000   6445.000000   \n",
      "\n",
      "                pop            hh      latitude     longitude  \n",
      "count  20640.000000  20640.000000  20640.000000  20640.000000  \n",
      "mean    1425.476744    499.539680     35.631861   -119.569704  \n",
      "std     1132.462122    382.329753      2.135952      2.003532  \n",
      "min        3.000000      1.000000     32.540000   -124.350000  \n",
      "25%      787.000000    280.000000     33.930000   -121.800000  \n",
      "50%     1166.000000    409.000000     34.260000   -118.490000  \n",
      "75%     1725.000000    605.000000     37.710000   -118.010000  \n",
      "max    35682.000000   6082.000000     41.950000   -114.310000  \n"
     ]
    }
   ],
   "source": [
    "# compute descriptive statistics for original variables\n",
    "print(houses.describe())\n"
   ]
  },
  {
   "cell_type": "code",
   "execution_count": 5,
   "metadata": {
    "collapsed": true
   },
   "outputs": [],
   "source": [
    "# computed variables for linear model used by Pace and Barry (1997)\n",
    "houses['log_value'] = np.log(houses['value'])\n",
    "houses['income_squared'] = np.power(houses['income'], 2) \n",
    "houses['income_cubed'] = np.power(houses['income'], 3) \n",
    "houses['log_age'] = np.log(houses['age'])   \n",
    "houses['log_pc_rooms'] = np.log(np.divide(houses['rooms'], houses['pop']))       \n",
    "houses['log_pc_bedrooms'] = \\\n",
    "    np.log(np.divide(houses['bedrooms'], houses['pop']))                   \n",
    "houses['log_pop_hh'] = np.divide(houses['pop'], houses['hh'])           \n",
    "houses['log_hh'] = np.log(houses['hh'])   \n",
    "\n",
    "# structure of the Pace and Barry (1997) model for baseline for comparisons\n",
    "pace_barry_model = 'log_value ~ income + income_squared + \\\n",
    "    income_cubed + log_age + log_pc_rooms + log_pc_bedrooms + \\\n",
    "    log_pop_hh + log_hh'"
   ]
  },
  {
   "cell_type": "code",
   "execution_count": 6,
   "metadata": {
    "collapsed": true
   },
   "outputs": [],
   "source": [
    "# for comparison lets look at a simple model with the original variables\n",
    "simple_model = 'log_value ~ income + age + rooms + bedrooms + \\\n",
    "    pop + hh' "
   ]
  },
  {
   "cell_type": "code",
   "execution_count": 7,
   "metadata": {
    "collapsed": true
   },
   "outputs": [],
   "source": [
    "# original variables plus variables that add value for trees \n",
    "# that is... variables that are not simple monotonic transformations\n",
    "# of the original explanatory variables\n",
    "full_model = 'log_value ~ income + age + rooms + bedrooms + \\\n",
    "  pop + hh + log_pc_rooms + log_pc_bedrooms + log_pop_hh'  \n",
    "  "
   ]
  },
  {
   "cell_type": "code",
   "execution_count": 8,
   "metadata": {},
   "outputs": [
    {
     "name": "stdout",
     "output_type": "stream",
     "text": [
      "(1206, 17)\n",
      "          value  income   age   rooms  bedrooms    pop     hh  latitude  \\\n",
      "idx                                                                       \n",
      "14005  441700.0  4.7396  52.0  2023.0     301.0  649.0  285.0     32.76   \n",
      "14006  408500.0  5.3920  52.0  1539.0     212.0  535.0  224.0     32.75   \n",
      "14007  459600.0  8.6030  52.0  1504.0     208.0  518.0  196.0     32.75   \n",
      "14008  500001.0  8.1548  52.0  1495.0     230.0  459.0  190.0     32.75   \n",
      "14009  411600.0  6.1309  52.0  1388.0     213.0  513.0  211.0     32.75   \n",
      "\n",
      "       longitude  log_value  income_squared  income_cubed   log_age  \\\n",
      "idx                                                                   \n",
      "14005    -117.18  12.998386       22.463808    106.469465  3.951244   \n",
      "14006    -117.18  12.920247       29.073664    156.765196  3.951244   \n",
      "14007    -117.18  13.038112       74.011609    636.721872  3.951244   \n",
      "14008    -117.19  13.122365       66.500763    542.300422  3.951244   \n",
      "14009    -117.19  12.927807       37.587935    230.447870  3.951244   \n",
      "\n",
      "       log_pc_rooms  log_pc_bedrooms  log_pop_hh    log_hh  \n",
      "idx                                                         \n",
      "14005      1.136904        -0.768322    2.277193  5.652489  \n",
      "14006      1.056621        -0.925680    2.388393  5.411646  \n",
      "14007      1.065908        -0.912437    2.642857  5.278115  \n",
      "14008      1.180831        -0.690971    2.415789  5.247024  \n",
      "14009      0.995343        -0.878984    2.431280  5.351858  \n"
     ]
    }
   ],
   "source": [
    "# define the bounding box for selecting the area\n",
    "# here we are selecting the San Diego region\n",
    "BB_TOP = 33\n",
    "BB_BOTTOM = 32\n",
    "BB_RIGHT = -116.75\n",
    "BB_LEFT = -125\n",
    "\n",
    "houses_selected = houses[houses['latitude'] < BB_TOP]\n",
    "houses_selected = houses_selected[houses_selected['longitude'] < BB_RIGHT]\n",
    "houses_selected = houses_selected[houses_selected['latitude'] > BB_BOTTOM]\n",
    "houses_selected = houses_selected[houses_selected['longitude'] > BB_LEFT]\n",
    "\n",
    "# examine structure of selected block groups\n",
    "print(houses_selected.shape)\n",
    "print(houses_selected.head())"
   ]
  },
  {
   "cell_type": "code",
   "execution_count": 9,
   "metadata": {},
   "outputs": [
    {
     "name": "stdout",
     "output_type": "stream",
     "text": [
      "\n",
      "houses_selected_train data frame (rows, columns):  (793, 18)\n",
      "          value  income   age   rooms  bedrooms    pop     hh  latitude  \\\n",
      "idx                                                                       \n",
      "14005  441700.0  4.7396  52.0  2023.0     301.0  649.0  285.0     32.76   \n",
      "14007  459600.0  8.6030  52.0  1504.0     208.0  518.0  196.0     32.75   \n",
      "14008  500001.0  8.1548  52.0  1495.0     230.0  459.0  190.0     32.75   \n",
      "14009  411600.0  6.1309  52.0  1388.0     213.0  513.0  211.0     32.75   \n",
      "14010  500001.0  5.7914  52.0  1294.0     175.0  434.0  180.0     32.76   \n",
      "\n",
      "       longitude  log_value  income_squared  income_cubed   log_age  \\\n",
      "idx                                                                   \n",
      "14005    -117.18  12.998386       22.463808    106.469465  3.951244   \n",
      "14007    -117.18  13.038112       74.011609    636.721872  3.951244   \n",
      "14008    -117.19  13.122365       66.500763    542.300422  3.951244   \n",
      "14009    -117.19  12.927807       37.587935    230.447870  3.951244   \n",
      "14010    -117.19  13.122365       33.540314    194.245374  3.951244   \n",
      "\n",
      "       log_pc_rooms  log_pc_bedrooms  log_pop_hh    log_hh  runiform  \n",
      "idx                                                                   \n",
      "14005      1.136904        -0.768322    2.277193  5.652489  0.942799  \n",
      "14007      1.065908        -0.912437    2.642857  5.278115  0.445349  \n",
      "14008      1.180831        -0.690971    2.415789  5.247024  0.638215  \n",
      "14009      0.995343        -0.878984    2.431280  5.351858  0.521494  \n",
      "14010      1.092449        -0.908259    2.411111  5.192957  0.900155  \n",
      "\n",
      "houses_selected_test data frame (rows, columns):  (413, 18)\n",
      "          value  income   age   rooms  bedrooms     pop      hh  latitude  \\\n",
      "idx                                                                         \n",
      "14006  408500.0  5.3920  52.0  1539.0     212.0   535.0   224.0     32.75   \n",
      "14011  354200.0  2.7266  45.0  3149.0     639.0  1160.0   661.0     32.76   \n",
      "14012  249000.0  3.6540  38.0  5430.0    1176.0  2357.0  1100.0     32.75   \n",
      "14013  274000.0  2.5288  39.0  3132.0     738.0  1200.0   690.0     32.74   \n",
      "14015  289600.0  3.0726  52.0  1052.0     239.0   381.0   201.0     32.75   \n",
      "\n",
      "       longitude  log_value  income_squared  income_cubed   log_age  \\\n",
      "idx                                                                   \n",
      "14006    -117.18  12.920247       29.073664    156.765196  3.951244   \n",
      "14011    -117.17  12.777617        7.434348     20.270492  3.806662   \n",
      "14012    -117.17  12.425208       13.351716     48.787170  3.637586   \n",
      "14013    -117.18  12.520883        6.394829     16.171245  3.663562   \n",
      "14015    -117.17  12.576256        9.440871     29.008019  3.951244   \n",
      "\n",
      "       log_pc_rooms  log_pc_bedrooms  log_pop_hh    log_hh  runiform  \n",
      "idx                                                                   \n",
      "14006      1.056621        -0.925680    2.388393  5.411646  0.123320  \n",
      "14011      0.998665        -0.596271    1.754917  6.493754  0.256962  \n",
      "14012      0.834550        -0.695271    2.142727  7.003065  0.192267  \n",
      "14013      0.959350        -0.486133    1.739130  6.536692  0.182353  \n",
      "14015      1.015649        -0.466336    1.895522  5.303305  0.271534  \n"
     ]
    }
   ],
   "source": [
    "# employ training-and-test regimen for model validation\n",
    "np.random.seed(4444)\n",
    "houses_selected['runiform'] = uniform.rvs(loc = 0, scale = 1, size = len(houses_selected))\n",
    "houses_selected_train = houses_selected[houses_selected['runiform'] >= 0.33]\n",
    "houses_selected_test = houses_selected[houses_selected['runiform'] < 0.33]\n",
    "# check training data frame\n",
    "print('\\nhouses_selected_train data frame (rows, columns): ',\\\n",
    "    houses_selected_train.shape)\n",
    "print(houses_selected_train.head())\n",
    "# check test data frame\n",
    "print('\\nhouses_selected_test data frame (rows, columns): ',\\\n",
    "    houses_selected_test.shape)\n",
    "print(houses_selected_test.head())"
   ]
  },
  {
   "cell_type": "code",
   "execution_count": 10,
   "metadata": {},
   "outputs": [
    {
     "name": "stdout",
     "output_type": "stream",
     "text": [
      "                 log_value    income  log_pc_rooms  log_pc_bedrooms     rooms  \\\n",
      "log_value         1.000000  0.659510      0.675540         0.349961  0.157848   \n",
      "income            0.659510  1.000000      0.527058        -0.106339  0.223225   \n",
      "log_pc_rooms      0.675540  0.527058      1.000000         0.674607  0.190381   \n",
      "log_pc_bedrooms   0.349961 -0.106339      0.674607         1.000000  0.027068   \n",
      "rooms             0.157848  0.223225      0.190381         0.027068  1.000000   \n",
      "bedrooms          0.029609 -0.025875      0.073820         0.151982  0.929458   \n",
      "hh                0.020813 -0.015306      0.055065         0.108616  0.934255   \n",
      "age               0.009355 -0.218314     -0.010232         0.093863 -0.371797   \n",
      "pop              -0.092723  0.008507     -0.188314        -0.237542  0.897124   \n",
      "log_pop_hh       -0.312509  0.021222     -0.674988        -0.860651 -0.040936   \n",
      "\n",
      "                 bedrooms        hh       age       pop  log_pop_hh  \n",
      "log_value        0.029609  0.020813  0.009355 -0.092723   -0.312509  \n",
      "income          -0.025875 -0.015306 -0.218314  0.008507    0.021222  \n",
      "log_pc_rooms     0.073820  0.055065 -0.010232 -0.188314   -0.674988  \n",
      "log_pc_bedrooms  0.151982  0.108616  0.093863 -0.237542   -0.860651  \n",
      "rooms            0.929458  0.934255 -0.371797  0.897124   -0.040936  \n",
      "bedrooms         1.000000  0.994493 -0.356904  0.893494   -0.115490  \n",
      "hh               0.994493  1.000000 -0.349911  0.908285   -0.100761  \n",
      "age             -0.356904 -0.349911  1.000000 -0.380698   -0.096489  \n",
      "pop              0.893494  0.908285 -0.380698  1.000000    0.251116  \n",
      "log_pop_hh      -0.115490 -0.100761 -0.096489  0.251116    1.000000  \n"
     ]
    }
   ],
   "source": [
    "# examine the correlations across the variables before we begin modeling\n",
    "houses_train_df_vars = houses_selected_train.loc[ : ,['log_value', 'income',\\\n",
    "    'log_pc_rooms', 'log_pc_bedrooms', 'rooms', 'bedrooms', 'hh', \\\n",
    "    'age', 'pop', 'log_pop_hh']]\n",
    "print(houses_train_df_vars.corr())"
   ]
  },
  {
   "cell_type": "code",
   "execution_count": 11,
   "metadata": {},
   "outputs": [
    {
     "name": "stderr",
     "output_type": "stream",
     "text": [
      "C:\\Users\\datab\\Anaconda3\\lib\\site-packages\\ipykernel_launcher.py:3: FutureWarning: 'pandas.tools.plotting.scatter_matrix' is deprecated, import 'pandas.plotting.scatter_matrix' instead.\n",
      "  This is separate from the ipykernel package so we can avoid doing imports until\n"
     ]
    },
    {
     "data": {
      "image/png": "[encoded data removed]",
      "text/plain": [
       "<matplotlib.figure.Figure at 0x2b703078048>"
      ]
     },
     "metadata": {},
     "output_type": "display_data"
    }
   ],
   "source": [
    "# scatter plot matrix (splom) demonstration\n",
    "houses_train_splom_vars = \\\n",
    "    houses_selected_train.loc[:, ['log_value', 'income', 'age', 'rooms']]\n",
    "scatter_matrix(houses_train_splom_vars)   \n",
    "pyplot.show()"
   ]
  },
  {
   "cell_type": "code",
   "execution_count": 12,
   "metadata": {},
   "outputs": [
    {
     "name": "stdout",
     "output_type": "stream",
     "text": [
      "                            OLS Regression Results                            \n",
      "==============================================================================\n",
      "Dep. Variable:              log_value   R-squared:                       0.643\n",
      "Model:                            OLS   Adj. R-squared:                  0.640\n",
      "Method:                 Least Squares   F-statistic:                     176.8\n",
      "Date:                Fri, 23 Feb 2018   Prob (F-statistic):          7.51e-170\n",
      "Time:                        18:31:09   Log-Likelihood:                -62.370\n",
      "No. Observations:                 793   AIC:                             142.7\n",
      "Df Residuals:                     784   BIC:                             184.8\n",
      "Df Model:                           8                                         \n",
      "Covariance Type:            nonrobust                                         \n",
      "===================================================================================\n",
      "                      coef    std err          t      P>|t|      [0.025      0.975]\n",
      "-----------------------------------------------------------------------------------\n",
      "Intercept          11.3731      0.154     73.793      0.000      11.071      11.676\n",
      "income              0.1135      0.048      2.370      0.018       0.019       0.208\n",
      "income_squared      0.0194      0.008      2.471      0.014       0.004       0.035\n",
      "income_cubed       -0.0013      0.000     -3.281      0.001      -0.002      -0.001\n",
      "log_age             0.1098      0.020      5.543      0.000       0.071       0.149\n",
      "log_pc_rooms        0.0689      0.081      0.853      0.394      -0.090       0.228\n",
      "log_pc_bedrooms     0.7796      0.080      9.791      0.000       0.623       0.936\n",
      "log_pop_hh          0.0819      0.020      4.181      0.000       0.043       0.120\n",
      "log_hh              0.0315      0.016      2.016      0.044       0.001       0.062\n",
      "==============================================================================\n",
      "Omnibus:                       52.641   Durbin-Watson:                   1.167\n",
      "Prob(Omnibus):                  0.000   Jarque-Bera (JB):              115.302\n",
      "Skew:                           0.393   Prob(JB):                     9.17e-26\n",
      "Kurtosis:                       4.695   Cond. No.                     3.38e+03\n",
      "==============================================================================\n",
      "\n",
      "Warnings:\n",
      "[1] Standard Errors assume that the covariance matrix of the errors is correctly specified.\n",
      "[2] The condition number is large, 3.38e+03. This might indicate that there are\n",
      "strong multicollinearity or other numerical problems.\n"
     ]
    },
    {
     "name": "stderr",
     "output_type": "stream",
     "text": [
      "C:\\Users\\datab\\Anaconda3\\lib\\site-packages\\ipykernel_launcher.py:9: SettingWithCopyWarning: \n",
      "A value is trying to be set on a copy of a slice from a DataFrame.\n",
      "Try using .loc[row_indexer,col_indexer] = value instead\n",
      "\n",
      "See the caveats in the documentation: http://pandas.pydata.org/pandas-docs/stable/indexing.html#indexing-view-versus-copy\n",
      "  if __name__ == '__main__':\n",
      "C:\\Users\\datab\\Anaconda3\\lib\\site-packages\\ipykernel_launcher.py:11: SettingWithCopyWarning: \n",
      "A value is trying to be set on a copy of a slice from a DataFrame.\n",
      "Try using .loc[row_indexer,col_indexer] = value instead\n",
      "\n",
      "See the caveats in the documentation: http://pandas.pydata.org/pandas-docs/stable/indexing.html#indexing-view-versus-copy\n",
      "  # This is added back by InteractiveShellApp.init_path()\n"
     ]
    }
   ],
   "source": [
    "# --------------------------------------------\n",
    "# Linear regression a la Pace and Barry (1997)\n",
    "# --------------------------------------------\n",
    "# fit the model to the training set\n",
    "pace_barry_train_fit = smf.ols(pace_barry_model, \\\n",
    "    data = houses_selected_train).fit()\n",
    "# summary of model fit to the training set\n",
    "print(pace_barry_train_fit.summary())\n",
    "# training set predictions from the model fit to the training set\n",
    "houses_selected_train['predict_log_value'] = pace_barry_train_fit.fittedvalues\n",
    "# test set predictions from the model fit to the training set\n",
    "houses_selected_test['predict_log_value'] = pace_barry_train_fit.predict(houses_selected_test)"
   ]
  },
  {
   "cell_type": "code",
   "execution_count": 13,
   "metadata": {},
   "outputs": [
    {
     "name": "stdout",
     "output_type": "stream",
     "text": [
      "\n",
      "Pace and Barry Proportion of Training Set Variance Accounted for:  0.643\n"
     ]
    }
   ],
   "source": [
    "# compute the proportion of response variance for training data\n",
    "pace_and_barry_train_result = \\\n",
    "    round(np.power(houses_selected_train['log_value']\\\n",
    "        .corr(houses_selected_train['predict_log_value']),2),3)\n",
    "print('\\nPace and Barry Proportion of Training Set Variance Accounted for: ',\\\n",
    "    pace_and_barry_train_result)\n"
   ]
  },
  {
   "cell_type": "code",
   "execution_count": 14,
   "metadata": {},
   "outputs": [
    {
     "name": "stdout",
     "output_type": "stream",
     "text": [
      "\n",
      "Pace and Barry Proportion of Test Set Variance Accounted for:  0.568\n"
     ]
    }
   ],
   "source": [
    "# compute the proportion of response variance\n",
    "# accounted for when predicting out-of-sample\n",
    "pace_and_barry_test_result = \\\n",
    "    round(np.power(houses_selected_test['log_value']\\\n",
    "        .corr(houses_selected_test['predict_log_value']),2),3)\n",
    "print('\\nPace and Barry Proportion of Test Set Variance Accounted for: ',\\\n",
    "    pace_and_barry_test_result)"
   ]
  },
  {
   "cell_type": "code",
   "execution_count": 15,
   "metadata": {},
   "outputs": [
    {
     "name": "stdout",
     "output_type": "stream",
     "text": [
      "\n",
      "Simple Tree Proportion of Training Set Variance Accounted for:  0.621\n",
      "\n",
      "Simple Tree Proportion of Test Set Variance Accounted for:  0.461\n"
     ]
    },
    {
     "name": "stderr",
     "output_type": "stream",
     "text": [
      "C:\\Users\\datab\\Anaconda3\\lib\\site-packages\\ipykernel_launcher.py:18: SettingWithCopyWarning: \n",
      "A value is trying to be set on a copy of a slice from a DataFrame.\n",
      "Try using .loc[row_indexer,col_indexer] = value instead\n",
      "\n",
      "See the caveats in the documentation: http://pandas.pydata.org/pandas-docs/stable/indexing.html#indexing-view-versus-copy\n",
      "C:\\Users\\datab\\Anaconda3\\lib\\site-packages\\ipykernel_launcher.py:23: SettingWithCopyWarning: \n",
      "A value is trying to be set on a copy of a slice from a DataFrame.\n",
      "Try using .loc[row_indexer,col_indexer] = value instead\n",
      "\n",
      "See the caveats in the documentation: http://pandas.pydata.org/pandas-docs/stable/indexing.html#indexing-view-versus-copy\n"
     ]
    }
   ],
   "source": [
    "# --------------------------------------\n",
    "# Tree-structured regression (simple)\n",
    "# --------------------------------------\n",
    "# try tree-structured regression on the original explantory variables\n",
    "# note that one of the advantages of trees is no need for transformations\n",
    "# of the explanatory variables... sklearn DecisionTreeRegressor\n",
    "tree_model_maker = DecisionTreeRegressor(random_state = 9999, max_depth = 5)\n",
    "\n",
    "y_train = houses_selected_train.loc[:, ['log_value']]\n",
    "\n",
    "# simple model has six predictors\n",
    "X_train_simple = houses_selected_train.loc[:, \\\n",
    "    ['income', 'age', 'rooms', 'bedrooms', 'pop', 'hh']]\n",
    "X_test_simple = houses_selected_test.loc[:, \\\n",
    "    ['income', 'age', 'rooms', 'bedrooms', 'pop', 'hh']]\n",
    "\n",
    "tree_model_fit = tree_model_maker.fit(X_train_simple, y_train)\n",
    "\n",
    "# compute the proportion of response variance for training data\n",
    "houses_selected_train['simple_tree_predict_log_value'] =\\\n",
    "    tree_model_fit.predict(X_train_simple)\n",
    "simple_tree_train_result = \\\n",
    "    round(np.power(houses_selected_train['log_value']\\\n",
    "        .corr(houses_selected_train['simple_tree_predict_log_value']),2),3)\n",
    "print('\\nSimple Tree Proportion of Training Set Variance Accounted for: ',\\\n",
    "    simple_tree_train_result)\n",
    "\n",
    "# compute the proportion of response variance for test data\n",
    "houses_selected_test['simple_tree_predict_log_value'] =\\\n",
    "    tree_model_fit.predict(X_test_simple)\n",
    "simple_tree_test_result = \\\n",
    "    round(np.power(houses_selected_test['log_value']\\\n",
    "        .corr(houses_selected_test['simple_tree_predict_log_value']),2),3)\n",
    "print('\\nSimple Tree Proportion of Test Set Variance Accounted for: ',\\\n",
    "    simple_tree_test_result)"
   ]
  },
  {
   "cell_type": "code",
   "execution_count": 16,
   "metadata": {},
   "outputs": [
    {
     "name": "stdout",
     "output_type": "stream",
     "text": [
      "\n",
      "Full Tree Proportion of Training Set Variance Accounted for:  0.729\n",
      "\n",
      "Full Tree Proportion of Test Set Variance Accounted for:  0.612\n"
     ]
    },
    {
     "name": "stderr",
     "output_type": "stream",
     "text": [
      "C:\\Users\\datab\\Anaconda3\\lib\\site-packages\\ipykernel_launcher.py:16: SettingWithCopyWarning: \n",
      "A value is trying to be set on a copy of a slice from a DataFrame.\n",
      "Try using .loc[row_indexer,col_indexer] = value instead\n",
      "\n",
      "See the caveats in the documentation: http://pandas.pydata.org/pandas-docs/stable/indexing.html#indexing-view-versus-copy\n",
      "  app.launch_new_instance()\n",
      "C:\\Users\\datab\\Anaconda3\\lib\\site-packages\\ipykernel_launcher.py:21: SettingWithCopyWarning: \n",
      "A value is trying to be set on a copy of a slice from a DataFrame.\n",
      "Try using .loc[row_indexer,col_indexer] = value instead\n",
      "\n",
      "See the caveats in the documentation: http://pandas.pydata.org/pandas-docs/stable/indexing.html#indexing-view-versus-copy\n"
     ]
    }
   ],
   "source": [
    "# --------------------------------------\n",
    "# Tree-structured regression (full)\n",
    "# --------------------------------------\n",
    "# same method as for simple tree\n",
    "tree_model_maker = DecisionTreeRegressor(random_state = 9999, max_depth = 5)\n",
    "\n",
    "y_train = houses_selected_train.loc[:, ['log_value']]\n",
    "\n",
    "# full model has more predictors\n",
    "X_train_full = houses_selected_train.loc[:, \\\n",
    "    ['income', 'age', 'rooms', 'bedrooms',\\\n",
    "        'pop', 'hh', 'log_pc_rooms', 'log_pc_bedrooms', 'log_pop_hh']]\n",
    "X_test_full = houses_selected_test.loc[:, \\\n",
    "    ['income', 'age', 'rooms', 'bedrooms',\\\n",
    "        'pop', 'hh', 'log_pc_rooms', 'log_pc_bedrooms', 'log_pop_hh']]\n",
    "\n",
    "tree_model_fit = tree_model_maker.fit(X_train_full, y_train)\n",
    "\n",
    "# compute the proportion of response variance for training data\n",
    "houses_selected_train['full_tree_predict_log_value'] =\\\n",
    "    tree_model_fit.predict(X_train_full)\n",
    "full_tree_train_result = \\\n",
    "    round(np.power(houses_selected_train['log_value']\\\n",
    "        .corr(houses_selected_train['full_tree_predict_log_value']),2),3)\n",
    "print('\\nFull Tree Proportion of Training Set Variance Accounted for: ',\\\n",
    "    full_tree_train_result)\n",
    "\n",
    "# compute the proportion of response variance for test data\n",
    "houses_selected_test['full_tree_predict_log_value'] =\\\n",
    "    tree_model_fit.predict(X_test_full)\n",
    "full_tree_test_result = \\\n",
    "    round(np.power(houses_selected_test['log_value']\\\n",
    "        .corr(houses_selected_test['full_tree_predict_log_value']),2),3)\n",
    "print('\\nFull Tree Proportion of Test Set Variance Accounted for: ',\\\n",
    "    full_tree_test_result)"
   ]
  },
  {
   "cell_type": "code",
   "execution_count": 17,
   "metadata": {},
   "outputs": [
    {
     "name": "stdout",
     "output_type": "stream",
     "text": [
      "\n",
      "Simple Random Forest Prop Training Set Variance Accounted for:  0.939\n",
      "\n",
      "Simple Random Forest Prop of Test Set Variance Accounted for:  0.589\n"
     ]
    },
    {
     "name": "stderr",
     "output_type": "stream",
     "text": [
      "C:\\Users\\datab\\Anaconda3\\lib\\site-packages\\ipykernel_launcher.py:12: DataConversionWarning: A column-vector y was passed when a 1d array was expected. Please change the shape of y to (n_samples,), for example using ravel().\n",
      "  if sys.path[0] == '':\n",
      "C:\\Users\\datab\\Anaconda3\\lib\\site-packages\\ipykernel_launcher.py:15: SettingWithCopyWarning: \n",
      "A value is trying to be set on a copy of a slice from a DataFrame.\n",
      "Try using .loc[row_indexer,col_indexer] = value instead\n",
      "\n",
      "See the caveats in the documentation: http://pandas.pydata.org/pandas-docs/stable/indexing.html#indexing-view-versus-copy\n",
      "  from ipykernel import kernelapp as app\n",
      "C:\\Users\\datab\\Anaconda3\\lib\\site-packages\\ipykernel_launcher.py:20: SettingWithCopyWarning: \n",
      "A value is trying to be set on a copy of a slice from a DataFrame.\n",
      "Try using .loc[row_indexer,col_indexer] = value instead\n",
      "\n",
      "See the caveats in the documentation: http://pandas.pydata.org/pandas-docs/stable/indexing.html#indexing-view-versus-copy\n"
     ]
    }
   ],
   "source": [
    "# --------------------------------------\n",
    "# Random forests (simple)\n",
    "# --------------------------------------\n",
    "rf_model_maker = RandomForestRegressor(random_state = 9999)\n",
    "\n",
    "y_train = houses_selected_train.loc[:, ['log_value']]\n",
    "\n",
    "# simple model has more predictors\n",
    "X_train_simple = houses_selected_train.loc[:, \\\n",
    "    ['income', 'age', 'rooms', 'bedrooms', 'pop', 'hh']]\n",
    "X_test_simple = houses_selected_test.loc[:, \\\n",
    "    ['income', 'age', 'rooms', 'bedrooms', 'pop', 'hh']]\n",
    "\n",
    "rf_model_fit = rf_model_maker.fit(X_train_simple, y_train)\n",
    "\n",
    "# compute the proportion of response variance for training data\n",
    "houses_selected_train['simple_rf_predict_log_value'] =\\\n",
    "    rf_model_fit.predict(X_train_simple)\n",
    "simple_rf_train_result = \\\n",
    "    round(np.power(houses_selected_train['log_value']\\\n",
    "        .corr(houses_selected_train['simple_rf_predict_log_value']),2),3)\n",
    "print('\\nSimple Random Forest Prop Training Set Variance Accounted for: ',\\\n",
    "    simple_rf_train_result)\n",
    "\n",
    "# compute the proportion of response variance for test data\n",
    "houses_selected_test['simple_rf_predict_log_value'] =\\\n",
    "    rf_model_fit.predict(X_test_simple)\n",
    "simple_rf_test_result = \\\n",
    "    round(np.power(houses_selected_test['log_value']\\\n",
    "        .corr(houses_selected_test['simple_rf_predict_log_value']),2),3)\n",
    "print('\\nSimple Random Forest Prop of Test Set Variance Accounted for: ',\\\n",
    "    simple_rf_test_result)"
   ]
  },
  {
   "cell_type": "code",
   "execution_count": 18,
   "metadata": {},
   "outputs": [
    {
     "name": "stdout",
     "output_type": "stream",
     "text": [
      "\n",
      "Full Random Forest Prop of Training Set Variance Accounted for:  0.946\n",
      "\n",
      "Full Random Forest Prop of Test Set Variance Accounted for:  0.627\n"
     ]
    },
    {
     "name": "stderr",
     "output_type": "stream",
     "text": [
      "C:\\Users\\datab\\Anaconda3\\lib\\site-packages\\ipykernel_launcher.py:12: DataConversionWarning: A column-vector y was passed when a 1d array was expected. Please change the shape of y to (n_samples,), for example using ravel().\n",
      "  if sys.path[0] == '':\n",
      "C:\\Users\\datab\\Anaconda3\\lib\\site-packages\\ipykernel_launcher.py:15: SettingWithCopyWarning: \n",
      "A value is trying to be set on a copy of a slice from a DataFrame.\n",
      "Try using .loc[row_indexer,col_indexer] = value instead\n",
      "\n",
      "See the caveats in the documentation: http://pandas.pydata.org/pandas-docs/stable/indexing.html#indexing-view-versus-copy\n",
      "  from ipykernel import kernelapp as app\n",
      "C:\\Users\\datab\\Anaconda3\\lib\\site-packages\\ipykernel_launcher.py:20: SettingWithCopyWarning: \n",
      "A value is trying to be set on a copy of a slice from a DataFrame.\n",
      "Try using .loc[row_indexer,col_indexer] = value instead\n",
      "\n",
      "See the caveats in the documentation: http://pandas.pydata.org/pandas-docs/stable/indexing.html#indexing-view-versus-copy\n"
     ]
    }
   ],
   "source": [
    "# --------------------------------------\n",
    "# Random forests (full)\n",
    "# --------------------------------------\n",
    "rf_model_maker = RandomForestRegressor(random_state = 9999)\n",
    "\n",
    "y_train = houses_selected_train.loc[:, ['log_value']]\n",
    "\n",
    "# full model has more predictors\n",
    "X_train_full = houses_selected_train.loc[:, \\\n",
    "    ['income', 'age', 'rooms', 'bedrooms',\\\n",
    "        'pop', 'hh', 'log_pc_rooms', 'log_pc_bedrooms', 'log_pop_hh']]\n",
    "X_test_full = houses_selected_test.loc[:, \\\n",
    "    ['income', 'age', 'rooms', 'bedrooms',\\\n",
    "        'pop', 'hh', 'log_pc_rooms', 'log_pc_bedrooms', 'log_pop_hh']]\n",
    "\n",
    "rf_model_fit = rf_model_maker.fit(X_train_full, y_train)\n",
    "\n",
    "# compute the proportion of response variance for training data\n",
    "houses_selected_train['full_rf_predict_log_value'] =\\\n",
    "    rf_model_fit.predict(X_train_full)\n",
    "full_rf_train_result = \\\n",
    "    round(np.power(houses_selected_train['log_value']\\\n",
    "        .corr(houses_selected_train['full_rf_predict_log_value']),2),3)\n",
    "print('\\nFull Random Forest Prop of Training Set Variance Accounted for: ',\\\n",
    "    full_rf_train_result)\n",
    "\n",
    "# compute the proportion of response variance for test data\n",
    "houses_selected_test['full_rf_predict_log_value'] =\\\n",
    "    rf_model_fit.predict(X_test_full)\n",
    "full_rf_test_result = \\\n",
    "    round(np.power(houses_selected_test['log_value']\\\n",
    "        .corr(houses_selected_test['full_rf_predict_log_value']),2),3)\n",
    "print('\\nFull Random Forest Prop of Test Set Variance Accounted for: ',\\\n",
    "    full_rf_test_result)\n"
   ]
  },
  {
   "cell_type": "code",
   "execution_count": 19,
   "metadata": {},
   "outputs": [
    {
     "name": "stderr",
     "output_type": "stream",
     "text": [
      "C:\\Users\\datab\\Anaconda3\\lib\\site-packages\\sklearn\\cross_validation.py:41: DeprecationWarning: This module was deprecated in version 0.18 in favor of the model_selection module into which all the refactored classes and functions are moved. Also note that the interface of the new CV iterators are different from that of this module. This module will be removed in 0.20.\n",
      "  \"This module will be removed in 0.20.\", DeprecationWarning)\n"
     ]
    },
    {
     "ename": "TypeError",
     "evalue": "__init__() got an unexpected keyword argument 'indices'",
     "output_type": "error",
     "traceback": [
      "\u001b[1;31m---------------------------------------------------------------------------\u001b[0m",
      "\u001b[1;31mTypeError\u001b[0m                                 Traceback (most recent call last)",
      "\u001b[1;32m<ipython-input-19-2d41e94b7f72>\u001b[0m in \u001b[0;36m<module>\u001b[1;34m()\u001b[0m\n\u001b[0;32m     20\u001b[0m \u001b[1;33m\u001b[0m\u001b[0m\n\u001b[0;32m     21\u001b[0m \u001b[1;31m# specify cross-validation method, including number of folds\u001b[0m\u001b[1;33m\u001b[0m\u001b[1;33m\u001b[0m\u001b[0m\n\u001b[1;32m---> 22\u001b[1;33m \u001b[0mcvfold\u001b[0m \u001b[1;33m=\u001b[0m \u001b[0mcross_validation\u001b[0m\u001b[1;33m.\u001b[0m\u001b[0mKFold\u001b[0m\u001b[1;33m(\u001b[0m\u001b[0mlen\u001b[0m\u001b[1;33m(\u001b[0m\u001b[0my\u001b[0m\u001b[1;33m)\u001b[0m\u001b[1;33m,\u001b[0m \u001b[0mn_folds\u001b[0m \u001b[1;33m=\u001b[0m \u001b[0mspecified_n_folds\u001b[0m\u001b[1;33m,\u001b[0m    \u001b[0mindices\u001b[0m \u001b[1;33m=\u001b[0m \u001b[1;32mFalse\u001b[0m\u001b[1;33m)\u001b[0m\u001b[1;33m\u001b[0m\u001b[0m\n\u001b[0m\u001b[0;32m     23\u001b[0m \u001b[1;33m\u001b[0m\u001b[0m\n\u001b[0;32m     24\u001b[0m \u001b[1;31m# initialize list for storing cross-validation results\u001b[0m\u001b[1;33m\u001b[0m\u001b[1;33m\u001b[0m\u001b[0m\n",
      "\u001b[1;31mTypeError\u001b[0m: __init__() got an unexpected keyword argument 'indices'"
     ]
    }
   ],
   "source": [
    "# --------------------------------------------------\n",
    "# we have been using a simple training-and-test split for validation\n",
    "# an alternative is multi-fold cross-validation, as shown here\n",
    "# for the simple tree-structured regression model\n",
    "\n",
    "from sklearn import cross_validation\n",
    "\n",
    "# specify number of folds for multi-fold cross-validation\n",
    "# a simple training-and-test regimen would have two folds\n",
    "specified_n_folds = 5\n",
    "\n",
    "# specify the modeling technique or method of analysis\n",
    "tree_model_maker = DecisionTreeRegressor(random_state = 9999, max_depth = 5)\n",
    "\n",
    "# specify the response variable \n",
    "y = houses_selected.loc[:, ['log_value']]\n",
    "\n",
    "# specify the explanatory variables \n",
    "X = houses_selected.loc[:, ['income', 'age', 'rooms', 'bedrooms', 'pop', 'hh']]\n",
    "\n",
    "# specify cross-validation method, including number of folds\n",
    "cvfold = cross_validation.KFold(len(y), n_folds = specified_n_folds,\\\n",
    "    indices = False)\n",
    "\n",
    "# initialize list for storing cross-validation results\n",
    "cv_results = []\n",
    "\n",
    "# iterate across the folds fitting to train, testing on test\n",
    "for train, test in cvfold:\n",
    "\n",
    "    # define training and test sets for this fold\n",
    "    X_train, X_test, y_train, y_test = X[train], X[test], y[train], y[test]\n",
    "       \n",
    "    # fit to training data for this fold\n",
    "    tree_model_fit = tree_model_maker.fit(X_train, y_train)\n",
    "        \n",
    "    # compute proportion of response variance accounted \n",
    "    # for in the test set in this fold, and add to the\n",
    "    # list of cross-validation results\n",
    "    y_test_predict = tree_model_fit.predict(X_test)\n",
    "    cv_fold_result = np.power(np.corrcoef(y_test.T, y_test_predict),2)\n",
    "    cv_results.append(cv_fold_result[0, 1])  \n",
    "\n",
    "print('\\nProportion of Training Set Variance Accounted for ',\\\n",
    "    'using ', specified_n_folds, 'Folds in Cross-Validation:',\n",
    "    round(np.mean(cv_results) ,3))\n",
    "\n"
   ]
  }
 ],
 "metadata": {
  "kernelspec": {
   "display_name": "Python 3",
   "language": "python",
   "name": "python3"
  },
  "language_info": {
   "codemirror_mode": {
    "name": "ipython",
    "version": 3
   },
   "file_extension": ".py",
   "mimetype": "text/x-python",
   "name": "python",
   "nbconvert_exporter": "python",
   "pygments_lexer": "ipython3",
   "version": "3.6.4"
  }
 },
 "nbformat": 4,
 "nbformat_minor": 2
}
