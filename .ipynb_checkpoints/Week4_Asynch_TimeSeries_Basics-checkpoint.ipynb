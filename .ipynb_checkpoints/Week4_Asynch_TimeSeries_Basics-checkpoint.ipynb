{
 "cells": [
  {
   "cell_type": "markdown",
   "metadata": {
    "colab_type": "text",
    "id": "view-in-github"
   },
   "source": [
    "<a href=\"https://colab.research.google.com/github/2SUBDA/Block2_Walk/blob/Week_4/Week4_Asynch_TimeSeries_Basics.ipynb\" target=\"_parent\"><img src=\"https://colab.research.google.com/assets/colab-badge.svg\" alt=\"Open In Colab\"/></a>"
   ]
  },
  {
   "cell_type": "markdown",
   "metadata": {
    "id": "r4k1H7faLR5T"
   },
   "source": [
    "Sample code for time series analysis using ARIMA\n",
    "Based on Miller, 2015"
   ]
  },
  {
   "cell_type": "code",
   "execution_count": 1,
   "metadata": {
    "colab": {
     "base_uri": "https://localhost:8080/"
    },
    "id": "15myYDOGMURA",
    "outputId": "d5bf3c4c-637b-4d4f-f288-afe5671b3cc1"
   },
   "outputs": [],
   "source": [
    "import pandas as pd\n",
    "\n",
    "import matplotlib.pyplot as plt\n",
    "import seaborn as sns\n",
    "from statsmodels.graphics.tsaplots import plot_acf\n",
    "from statsmodels.graphics.tsaplots import plot_pacf\n",
    "from statsmodels.tsa.stattools import adfuller\n"
   ]
  },
  {
   "cell_type": "code",
   "execution_count": 2,
   "metadata": {
    "colab": {
     "base_uri": "https://localhost:8080/"
    },
    "id": "2P-Y9hjKLPmR",
    "outputId": "3716af1e-ffc0-4849-b4d5-20e865720ff6"
   },
   "outputs": [
    {
     "name": "stdout",
     "output_type": "stream",
     "text": [
      "       ChampagneSales\n",
      "count      105.000000\n",
      "mean      4761.152381\n",
      "std       2553.502601\n",
      "min       1413.000000\n",
      "25%       3113.000000\n",
      "50%       4217.000000\n",
      "75%       5221.000000\n",
      "max      13916.000000\n"
     ]
    }
   ],
   "source": [
    "# OBTAIN - THERE ARE MANY WAYS TO READ INFO INTO COLAB\n",
    "# THIS IS ONE - ASSUMES YOU HAVE A DATA FILE AVAILABLE ONLINE YOU WANT TO ACCESS\n",
    "\n",
    "sales = pd.read_csv('https://raw.githubusercontent.com/2SUBDA/Block2_Walk/Week_4/champagne.csv', \n",
    "                    index_col=\"Datetime\", parse_dates=[\"Datetime\"])\n",
    "print(sales.describe())"
   ]
  },
  {
   "cell_type": "code",
   "execution_count": 3,
   "metadata": {
    "colab": {
     "base_uri": "https://localhost:8080/"
    },
    "id": "KFdUkC1gQvta",
    "outputId": "1e39aab3-8166-4c67-f9ad-3feb0a71cf00"
   },
   "outputs": [
    {
     "data": {
      "text/plain": [
       "DatetimeIndex(['1964-01-01', '1964-02-01', '1964-03-01', '1964-04-01',\n",
       "               '1964-05-01', '1964-06-01', '1964-07-01', '1964-08-01',\n",
       "               '1964-09-01', '1964-10-01',\n",
       "               ...\n",
       "               '1971-12-01', '1972-01-01', '1972-02-01', '1972-03-01',\n",
       "               '1972-04-01', '1972-05-01', '1972-06-01', '1972-07-01',\n",
       "               '1972-08-01', '1972-09-01'],\n",
       "              dtype='datetime64[ns]', name='Datetime', length=105, freq=None)"
      ]
     },
     "execution_count": 3,
     "metadata": {},
     "output_type": "execute_result"
    }
   ],
   "source": [
    "# SCRUB - DID WE GET OUR INDEX IN AS A DATE\n",
    "\n",
    "sales.index"
   ]
  },
  {
   "cell_type": "code",
   "execution_count": 4,
   "metadata": {
    "colab": {
     "base_uri": "https://localhost:8080/",
     "height": 235
    },
    "id": "GFD4gASAQ6Np",
    "outputId": "a3e9c167-184b-4bd5-bad7-53a2add6a9a4"
   },
   "outputs": [
    {
     "data": {
      "text/html": [
       "<div>\n",
       "<style scoped>\n",
       "    .dataframe tbody tr th:only-of-type {\n",
       "        vertical-align: middle;\n",
       "    }\n",
       "\n",
       "    .dataframe tbody tr th {\n",
       "        vertical-align: top;\n",
       "    }\n",
       "\n",
       "    .dataframe thead th {\n",
       "        text-align: right;\n",
       "    }\n",
       "</style>\n",
       "<table border=\"1\" class=\"dataframe\">\n",
       "  <thead>\n",
       "    <tr style=\"text-align: right;\">\n",
       "      <th></th>\n",
       "      <th>ChampagneSales</th>\n",
       "    </tr>\n",
       "    <tr>\n",
       "      <th>Datetime</th>\n",
       "      <th></th>\n",
       "    </tr>\n",
       "  </thead>\n",
       "  <tbody>\n",
       "    <tr>\n",
       "      <th>1964-01-01</th>\n",
       "      <td>2815</td>\n",
       "    </tr>\n",
       "    <tr>\n",
       "      <th>1964-02-01</th>\n",
       "      <td>2672</td>\n",
       "    </tr>\n",
       "    <tr>\n",
       "      <th>1964-03-01</th>\n",
       "      <td>2755</td>\n",
       "    </tr>\n",
       "    <tr>\n",
       "      <th>1964-04-01</th>\n",
       "      <td>2721</td>\n",
       "    </tr>\n",
       "    <tr>\n",
       "      <th>1964-05-01</th>\n",
       "      <td>2946</td>\n",
       "    </tr>\n",
       "  </tbody>\n",
       "</table>\n",
       "</div>"
      ],
      "text/plain": [
       "            ChampagneSales\n",
       "Datetime                  \n",
       "1964-01-01            2815\n",
       "1964-02-01            2672\n",
       "1964-03-01            2755\n",
       "1964-04-01            2721\n",
       "1964-05-01            2946"
      ]
     },
     "execution_count": 4,
     "metadata": {},
     "output_type": "execute_result"
    }
   ],
   "source": [
    "# EXPLORE - WHAT DOES OUR DATA LOOK LIKE\n",
    "sales = sales.sort_index()\n",
    "sales.head()"
   ]
  },
  {
   "cell_type": "code",
   "execution_count": 5,
   "metadata": {
    "colab": {
     "base_uri": "https://localhost:8080/",
     "height": 452
    },
    "id": "ncWpNnC7eJVY",
    "outputId": "f720e991-c2b7-4f47-8a25-9c5c58b6b0bd"
   },
   "outputs": [
    {
     "data": {
      "text/html": [
       "<div>\n",
       "<style scoped>\n",
       "    .dataframe tbody tr th:only-of-type {\n",
       "        vertical-align: middle;\n",
       "    }\n",
       "\n",
       "    .dataframe tbody tr th {\n",
       "        vertical-align: top;\n",
       "    }\n",
       "\n",
       "    .dataframe thead th {\n",
       "        text-align: right;\n",
       "    }\n",
       "</style>\n",
       "<table border=\"1\" class=\"dataframe\">\n",
       "  <thead>\n",
       "    <tr style=\"text-align: right;\">\n",
       "      <th></th>\n",
       "      <th>ChampagneSales</th>\n",
       "    </tr>\n",
       "    <tr>\n",
       "      <th>Datetime</th>\n",
       "      <th></th>\n",
       "    </tr>\n",
       "  </thead>\n",
       "  <tbody>\n",
       "    <tr>\n",
       "      <th>1970-01-01</th>\n",
       "      <td>2639</td>\n",
       "    </tr>\n",
       "    <tr>\n",
       "      <th>1970-02-01</th>\n",
       "      <td>2899</td>\n",
       "    </tr>\n",
       "    <tr>\n",
       "      <th>1970-03-01</th>\n",
       "      <td>3370</td>\n",
       "    </tr>\n",
       "    <tr>\n",
       "      <th>1970-04-01</th>\n",
       "      <td>3740</td>\n",
       "    </tr>\n",
       "    <tr>\n",
       "      <th>1970-05-01</th>\n",
       "      <td>2927</td>\n",
       "    </tr>\n",
       "    <tr>\n",
       "      <th>1970-06-01</th>\n",
       "      <td>3986</td>\n",
       "    </tr>\n",
       "    <tr>\n",
       "      <th>1970-07-01</th>\n",
       "      <td>4217</td>\n",
       "    </tr>\n",
       "    <tr>\n",
       "      <th>1970-08-01</th>\n",
       "      <td>1738</td>\n",
       "    </tr>\n",
       "    <tr>\n",
       "      <th>1970-09-01</th>\n",
       "      <td>5221</td>\n",
       "    </tr>\n",
       "    <tr>\n",
       "      <th>1970-10-01</th>\n",
       "      <td>6424</td>\n",
       "    </tr>\n",
       "    <tr>\n",
       "      <th>1970-11-01</th>\n",
       "      <td>9842</td>\n",
       "    </tr>\n",
       "    <tr>\n",
       "      <th>1970-12-01</th>\n",
       "      <td>13076</td>\n",
       "    </tr>\n",
       "  </tbody>\n",
       "</table>\n",
       "</div>"
      ],
      "text/plain": [
       "            ChampagneSales\n",
       "Datetime                  \n",
       "1970-01-01            2639\n",
       "1970-02-01            2899\n",
       "1970-03-01            3370\n",
       "1970-04-01            3740\n",
       "1970-05-01            2927\n",
       "1970-06-01            3986\n",
       "1970-07-01            4217\n",
       "1970-08-01            1738\n",
       "1970-09-01            5221\n",
       "1970-10-01            6424\n",
       "1970-11-01            9842\n",
       "1970-12-01           13076"
      ]
     },
     "execution_count": 5,
     "metadata": {},
     "output_type": "execute_result"
    }
   ],
   "source": [
    "# EXPLORE - HOW CAN WE LOOK AT A CERTAIN TIME PERIOD?\n",
    "\n",
    "sales.loc['1970']\n"
   ]
  },
  {
   "cell_type": "code",
   "execution_count": 7,
   "metadata": {
    "colab": {
     "base_uri": "https://localhost:8080/",
     "height": 298
    },
    "id": "1OTYGs1OLPmV",
    "outputId": "695eabd8-b792-4ff8-bf7b-bb32a433f988",
    "scrolled": true
   },
   "outputs": [
    {
     "data": {
      "text/plain": [
       "Text(0.5, 1.0, 'Champagne Sales from 1964 to 1972ish')"
      ]
     },
     "execution_count": 7,
     "metadata": {},
     "output_type": "execute_result"
    },
    {
     "data": {
      "image/png": "[encoded data removed]",
      "text/plain": [
       "<Figure size 432x288 with 1 Axes>"
      ]
     },
     "metadata": {
      "needs_background": "light"
     },
     "output_type": "display_data"
    }
   ],
   "source": [
    "# EXPLORE - HOW CAN WE SEE A VISUAL OF THE DATA?\n",
    "\n",
    "fig, ax = plt.subplots()\n",
    "ax.plot(sales['ChampagneSales'], linewidth=3)\n",
    "ax.set_ylabel('Monthly Consumption')\n",
    "ax.set_title('Champagne Sales from 1964 to 1972ish')\n"
   ]
  },
  {
   "cell_type": "markdown",
   "metadata": {},
   "source": [
    "Positive upward trend and seaonal observed."
   ]
  },
  {
   "cell_type": "code",
   "execution_count": 8,
   "metadata": {
    "colab": {
     "base_uri": "https://localhost:8080/",
     "height": 337
    },
    "id": "WnqNiUjiLPmZ",
    "outputId": "d603a252-ec1f-4b24-b630-6d39e6cf5ba5"
   },
   "outputs": [
    {
     "data": {
      "image/png": "[encoded data removed]",
      "text/plain": [
       "<Figure size 432x288 with 7 Axes>"
      ]
     },
     "metadata": {
      "needs_background": "light"
     },
     "output_type": "display_data"
    },
    {
     "name": "stdout",
     "output_type": "stream",
     "text": [
      "Empty DataFrame\n",
      "Columns: []\n",
      "Index: []\n",
      "<pandas.core.groupby.generic.DataFrameGroupBy object at 0x000001CA791C8220>\n"
     ]
    }
   ],
   "source": [
    "# EXPLORE - HOW CAN WE LOOK AT SALES ACROSS A SEVEN YEAR PERIOD\n",
    "\n",
    "groups = sales['1964':'1970'].groupby(pd.Grouper(freq=('A')))\n",
    "years = pd.DataFrame()\n",
    "plt.figure()\n",
    "i = 1\n",
    "n_groups = len(groups)\n",
    "for name, group in groups:\n",
    "\tplt.subplot((n_groups*100) + 10 + i)\n",
    "\ti += 1\n",
    "\tplt.plot(group)\n",
    "plt.show()\n",
    "print(years)\n",
    "print(groups)"
   ]
  },
  {
   "cell_type": "markdown",
   "metadata": {},
   "source": [
    "With all temporal data, you can group by year over year or month over month. Downside, there is some scew based on the scale. Lull in July but picked up in holiday season."
   ]
  },
  {
   "cell_type": "code",
   "execution_count": 9,
   "metadata": {
    "colab": {
     "base_uri": "https://localhost:8080/",
     "height": 529
    },
    "id": "fOvPxfX-LPmc",
    "outputId": "f29132d6-2b3f-422c-9bc5-7ca905917e87"
   },
   "outputs": [
    {
     "data": {
      "image/png": "[encoded data removed]",
      "text/plain": [
       "<Figure size 432x288 with 1 Axes>"
      ]
     },
     "metadata": {
      "needs_background": "light"
     },
     "output_type": "display_data"
    },
    {
     "data": {
      "image/png": "[encoded data removed]",
      "text/plain": [
       "<Figure size 432x288 with 1 Axes>"
      ]
     },
     "metadata": {
      "needs_background": "light"
     },
     "output_type": "display_data"
    }
   ],
   "source": [
    "# EXPLORE - HOW CAN WE LOOK AT DISTRIBUTION OF SALES\n",
    "\n",
    "sales.hist()\n",
    "\n",
    "sales.plot(kind='kde')\n",
    "plt.show()"
   ]
  },
  {
   "cell_type": "markdown",
   "metadata": {},
   "source": [
    "Looking at a normal historgram to see temporal data for the whole time period. Might want to consider building histogram/density plot throughout the group by times (year over year, month over month) to see if the density changes or evolves over time. Might want to consider transforming the data to keep it consistent (condition for inflation)."
   ]
  },
  {
   "cell_type": "code",
   "execution_count": 11,
   "metadata": {
    "colab": {
     "base_uri": "https://localhost:8080/",
     "height": 296
    },
    "id": "_8DKIE4EgAYx",
    "outputId": "6f275b25-9a6a-4558-f149-257a3dd8bfbf",
    "scrolled": true
   },
   "outputs": [
    {
     "data": {
      "text/plain": [
       "<AxesSubplot:xlabel='Year', ylabel='ChampagneSales'>"
      ]
     },
     "execution_count": 11,
     "metadata": {},
     "output_type": "execute_result"
    },
    {
     "data": {
      "image/png": "[encoded data removed]",
      "text/plain": [
       "<Figure size 432x288 with 1 Axes>"
      ]
     },
     "metadata": {
      "needs_background": "light"
     },
     "output_type": "display_data"
    }
   ],
   "source": [
    "# SCRUB & EXPLORE - ADD YEAR COLUMN FOR SIMPLE GROUP BY WITH SEABORN\n",
    "\n",
    "sales['Year'] = sales.index.year\n",
    "#sales.sample(10,random_state=0)\n",
    "\n",
    "sns.boxplot(data=sales, x='Year', y='ChampagneSales')"
   ]
  },
  {
   "cell_type": "markdown",
   "metadata": {},
   "source": [
    "Another way to look at averages over time. Larger swings observed, more outliers as time goes on."
   ]
  },
  {
   "cell_type": "code",
   "execution_count": 13,
   "metadata": {
    "colab": {
     "base_uri": "https://localhost:8080/"
    },
    "id": "xDEum2BFLPmi",
    "outputId": "8d4c7603-c2cb-4d49-99e9-be95411ddd74"
   },
   "outputs": [
    {
     "name": "stdout",
     "output_type": "stream",
     "text": [
      "ADF Statistic: -1.833593\n",
      "p-value: 0.363916\n",
      "Critical Values:\n",
      "\t1%: -3.503\n",
      "\t5%: -2.893\n",
      "\t10%: -2.584\n"
     ]
    }
   ],
   "source": [
    "# EXPLORE - WHAT DOES THE ADF TEST TELL US?\n",
    "# IS OUR TIME SERIES STATIONARY OR NOT?\n",
    "\n",
    "result = adfuller(sales['ChampagneSales'], autolag='AIC')\n",
    "\n",
    "print('ADF Statistic: %f' % result[0])\n",
    "print('p-value: %f' % result[1])\n",
    "print('Critical Values:')\n",
    "for key, value in result[4].items():\n",
    "\tprint('\\t%s: %.3f' % (key, value))\n"
   ]
  },
  {
   "cell_type": "markdown",
   "metadata": {
    "id": "aLw91qqg6uRn"
   },
   "source": [
    "The Augmented Dickey Fuller (ADF) test helps us determine if the time series is stationary or non-stationary.  If the p-value is greater than 0.05, we accept the null hypothesis that the time-series is **non-stationary** (increasing mean & variance)."
   ]
  },
  {
   "cell_type": "code",
   "execution_count": 14,
   "metadata": {
    "colab": {
     "base_uri": "https://localhost:8080/",
     "height": 579
    },
    "id": "Q9Dxbw3VLPmp",
    "outputId": "0273b808-5352-4484-827e-886854315493",
    "scrolled": false
   },
   "outputs": [
    {
     "data": {
      "image/png": "[encoded data removed]",
      "text/plain": [
       "<Figure size 432x288 with 1 Axes>"
      ]
     },
     "metadata": {
      "needs_background": "light"
     },
     "output_type": "display_data"
    },
    {
     "name": "stderr",
     "output_type": "stream",
     "text": [
      "C:\\ProgramData\\Anaconda3\\lib\\site-packages\\statsmodels\\regression\\linear_model.py:1434: RuntimeWarning: invalid value encountered in sqrt\n",
      "  return rho, np.sqrt(sigmasq)\n"
     ]
    },
    {
     "data": {
      "image/png": "[encoded data removed]",
      "text/plain": [
       "<Figure size 432x288 with 1 Axes>"
      ]
     },
     "metadata": {
      "needs_background": "light"
     },
     "output_type": "display_data"
    }
   ],
   "source": [
    "# EXPLORE - WHAT DO THE CORRELATION PLOTS TELL US ABOUT THE DATA?\n",
    "\n",
    "plot_acf(sales['ChampagneSales'], ax=plt.gca())\n",
    "plt.show()\n",
    "\n",
    "#pyplot.subplot(212)\n",
    "\n",
    "plot_pacf(sales['ChampagneSales'], ax=plt.gca())\n",
    "plt.show()"
   ]
  },
  {
   "cell_type": "markdown",
   "metadata": {},
   "source": [
    "Seasonality still hurting model, might want to remove it further."
   ]
  },
  {
   "cell_type": "markdown",
   "metadata": {
    "id": "GReNWsIl8mDk"
   },
   "source": [
    "The Autocorrelation Plots help us determine the correlation between lags Dickey Fuller (ADF) test helps us determine if the time series is stationary or non-stationary.  \n",
    "\n",
    "The null hypothesis is the series is non-stationary.\n",
    "\n",
    "If the p-value is greater than 0.05, we accept the null hypothesis that the time-series is **non-stationary** (increasing mean & variance)."
   ]
  }
 ],
 "metadata": {
  "colab": {
   "include_colab_link": true,
   "name": "Week4_Asynch_TimeSeries_Basics.ipynb",
   "provenance": []
  },
  "kernelspec": {
   "display_name": "Python 3 (ipykernel)",
   "language": "python",
   "name": "python3"
  },
  "language_info": {
   "codemirror_mode": {
    "name": "ipython",
    "version": 3
   },
   "file_extension": ".py",
   "mimetype": "text/x-python",
   "name": "python",
   "nbconvert_exporter": "python",
   "pygments_lexer": "ipython3",
   "version": "3.8.11"
  }
 },
 "nbformat": 4,
 "nbformat_minor": 1
}
