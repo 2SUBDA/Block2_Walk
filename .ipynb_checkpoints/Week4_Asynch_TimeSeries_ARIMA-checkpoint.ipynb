{
 "cells": [
  {
   "cell_type": "markdown",
   "metadata": {
    "colab_type": "text",
    "id": "view-in-github"
   },
   "source": [
    "<a href=\"https://colab.research.google.com/github/2SUBDA/Block2_Walk/blob/Week_4/Week4_Asynch_TimeSeries_ARIMA.ipynb\" target=\"_parent\"><img src=\"https://colab.research.google.com/assets/colab-badge.svg\" alt=\"Open In Colab\"/></a>"
   ]
  },
  {
   "cell_type": "code",
   "execution_count": 1,
   "metadata": {
    "colab": {
     "base_uri": "https://localhost:8080/"
    },
    "id": "tH8da5fuHZvj",
    "outputId": "c855c0e5-5c18-40ee-c2f7-9918738031e3"
   },
   "outputs": [],
   "source": [
    "## SAMPLE TIME SERIES USING RETAIL DATA\n",
    "## BASED ON MILLER (2015) and BROWNLEE (2016)\n",
    "\n",
    "import pandas as pd\n",
    "import matplotlib.pyplot as plt\n",
    "\n",
    "from statsmodels.tsa.stattools import adfuller\n",
    "from statsmodels.graphics.tsaplots import plot_acf\n",
    "from statsmodels.graphics.tsaplots import plot_pacf\n",
    "from sklearn.metrics import mean_squared_error\n",
    "from statsmodels.tsa.arima_model import ARIMA\n",
    "from statsmodels.tsa.arima_model import ARIMAResults\n",
    "from math import sqrt\n",
    "from pandas import DataFrame\n",
    "from scipy.stats import boxcox\n",
    "\n"
   ]
  },
  {
   "cell_type": "code",
   "execution_count": 2,
   "metadata": {
    "colab": {
     "base_uri": "https://localhost:8080/",
     "height": 235
    },
    "id": "L3nIeWihHZvo",
    "outputId": "53da9c6c-217a-4c26-ebaa-91d483637b74"
   },
   "outputs": [
    {
     "data": {
      "text/html": [
       "<div>\n",
       "<style scoped>\n",
       "    .dataframe tbody tr th:only-of-type {\n",
       "        vertical-align: middle;\n",
       "    }\n",
       "\n",
       "    .dataframe tbody tr th {\n",
       "        vertical-align: top;\n",
       "    }\n",
       "\n",
       "    .dataframe thead th {\n",
       "        text-align: right;\n",
       "    }\n",
       "</style>\n",
       "<table border=\"1\" class=\"dataframe\">\n",
       "  <thead>\n",
       "    <tr style=\"text-align: right;\">\n",
       "      <th></th>\n",
       "      <th>Sales</th>\n",
       "      <th>IsHoliday</th>\n",
       "    </tr>\n",
       "    <tr>\n",
       "      <th>Date</th>\n",
       "      <th></th>\n",
       "      <th></th>\n",
       "    </tr>\n",
       "  </thead>\n",
       "  <tbody>\n",
       "    <tr>\n",
       "      <th>2010-02-05</th>\n",
       "      <td>24924.50</td>\n",
       "      <td>False</td>\n",
       "    </tr>\n",
       "    <tr>\n",
       "      <th>2010-02-12</th>\n",
       "      <td>46039.49</td>\n",
       "      <td>True</td>\n",
       "    </tr>\n",
       "    <tr>\n",
       "      <th>2010-02-19</th>\n",
       "      <td>41595.55</td>\n",
       "      <td>False</td>\n",
       "    </tr>\n",
       "    <tr>\n",
       "      <th>2010-02-26</th>\n",
       "      <td>19403.54</td>\n",
       "      <td>False</td>\n",
       "    </tr>\n",
       "    <tr>\n",
       "      <th>2010-03-05</th>\n",
       "      <td>21827.90</td>\n",
       "      <td>False</td>\n",
       "    </tr>\n",
       "  </tbody>\n",
       "</table>\n",
       "</div>"
      ],
      "text/plain": [
       "               Sales  IsHoliday\n",
       "Date                           \n",
       "2010-02-05  24924.50      False\n",
       "2010-02-12  46039.49       True\n",
       "2010-02-19  41595.55      False\n",
       "2010-02-26  19403.54      False\n",
       "2010-03-05  21827.90      False"
      ]
     },
     "execution_count": 2,
     "metadata": {},
     "output_type": "execute_result"
    }
   ],
   "source": [
    "# OBTAIN - MANY WAYS TO GET DATA - THIS IS ONE\n",
    "\n",
    "series1 = pd.read_csv('https://raw.githubusercontent.com/2SUBDA/Block2_Walk/Week_4/Dept1.csv', header=0,\n",
    "                      index_col=\"Date\", parse_dates=[\"Date\"])\n",
    "\n",
    "series1 = series1.sort_index()\n",
    "series1.head()\n",
    "\n"
   ]
  },
  {
   "cell_type": "code",
   "execution_count": 3,
   "metadata": {
    "colab": {
     "base_uri": "https://localhost:8080/"
    },
    "id": "tb5_ryIXJIrx",
    "outputId": "d3b90037-0162-4e44-964c-f296ca0f7cc0"
   },
   "outputs": [
    {
     "name": "stdout",
     "output_type": "stream",
     "text": [
      "              Sales\n",
      "count    143.000000\n",
      "mean   10152.336783\n",
      "std     1975.402197\n",
      "min     5272.760000\n",
      "25%     8882.515000\n",
      "50%    10225.670000\n",
      "75%    11188.750000\n",
      "max    17880.040000\n",
      "              Sales\n",
      "count    143.000000\n",
      "mean   17139.314615\n",
      "std     2414.333401\n",
      "min     7320.660000\n",
      "25%    15667.280000\n",
      "50%    16973.960000\n",
      "75%    18993.120000\n",
      "max    22615.850000\n"
     ]
    }
   ],
   "source": [
    "# OBTAIN - MANY WAYS TO GET MORE DATA\n",
    "# DEPT 25 IS BEVERAGE\n",
    "# DEPT 80 IS SERVICE DELI / CHICKEN\\\n",
    "# DEPT 94 IS PRODUCE\n",
    "\n",
    "\n",
    "series25 = pd.read_csv('https://raw.githubusercontent.com/2SUBDA/Block2_Walk/Week_4/Dept25.csv', header=0,\n",
    "                       index_col=\"Date\", parse_dates=[\"Date\"])\n",
    "print(series25.describe())\n",
    "\n",
    "\n",
    "series80 = pd.read_csv('https://raw.githubusercontent.com/2SUBDA/Block2_Walk/Week_4/Dept80.csv', header=0,\n",
    "                       index_col=\"Date\", parse_dates=[\"Date\"])\n",
    "print(series80.describe())\n",
    "\n"
   ]
  },
  {
   "cell_type": "code",
   "execution_count": 4,
   "metadata": {
    "colab": {
     "base_uri": "https://localhost:8080/",
     "height": 298
    },
    "id": "0xyc8CM5HZvr",
    "outputId": "1a23c03b-b0ac-4ab6-bf27-5c4829d55a4e",
    "scrolled": true
   },
   "outputs": [
    {
     "data": {
      "text/plain": [
       "Text(0.5, 1.0, 'Dept 1 Sales from 2010ish to 2012ish')"
      ]
     },
     "execution_count": 4,
     "metadata": {},
     "output_type": "execute_result"
    },
    {
     "data": {
      "image/png": "[encoded data removed]",
      "text/plain": [
       "<Figure size 432x288 with 1 Axes>"
      ]
     },
     "metadata": {
      "needs_background": "light"
     },
     "output_type": "display_data"
    }
   ],
   "source": [
    "# EXPLORE - WHAT DOES THE DATA LOOK LIKE - IN A CHART?\n",
    "\n",
    "fig, ax = plt.subplots()\n",
    "ax.plot(series1['Sales'], linewidth=3)\n",
    "ax.set_ylabel('Weekly Sales')\n",
    "ax.set_title('Dept 1 Sales from 2010ish to 2012ish')"
   ]
  },
  {
   "cell_type": "markdown",
   "metadata": {},
   "source": [
    "Seasonal peaks"
   ]
  },
  {
   "cell_type": "code",
   "execution_count": 5,
   "metadata": {
    "colab": {
     "base_uri": "https://localhost:8080/",
     "height": 298
    },
    "id": "zPHG_A4XHZv0",
    "outputId": "945e5119-09e1-4633-b579-ee2d5fb5227e"
   },
   "outputs": [
    {
     "data": {
      "text/plain": [
       "Text(0.5, 1.0, 'Holidays in the Time Series')"
      ]
     },
     "execution_count": 5,
     "metadata": {},
     "output_type": "execute_result"
    },
    {
     "data": {
      "image/png": "[encoded data removed]",
      "text/plain": [
       "<Figure size 432x288 with 1 Axes>"
      ]
     },
     "metadata": {
      "needs_background": "light"
     },
     "output_type": "display_data"
    }
   ],
   "source": [
    "# EXPLORE - WHAT DOES THE DATA LOOK LIKE - WHAT ARE THESE HOLIDAYS?\n",
    "\n",
    "fig, ax = plt.subplots()\n",
    "ax.plot(series1['IsHoliday'], linewidth=3)\n",
    "ax.set_ylabel('Holiday - Yes or No?')\n",
    "ax.set_title('Holidays in the Time Series')\n"
   ]
  },
  {
   "cell_type": "markdown",
   "metadata": {
    "id": "iCq-XcfBLdA6"
   },
   "source": [
    "Additional EDA is left to the student :)\n",
    "\n",
    "What plots might help us understand the data more?\n",
    "\n",
    "Or is the basic time series plot enough?"
   ]
  },
  {
   "cell_type": "code",
   "execution_count": 6,
   "metadata": {
    "colab": {
     "base_uri": "https://localhost:8080/"
    },
    "id": "Eg3w2mt9MbrU",
    "outputId": "20be2dcd-f7fc-42b6-8ffc-c6be037b35a9"
   },
   "outputs": [
    {
     "name": "stdout",
     "output_type": "stream",
     "text": [
      "ADF Statistic: -2.522164\n",
      "p-value: 0.110174\n",
      "Critical Values:\n",
      "\t1%: -3.479\n",
      "\t5%: -2.883\n",
      "\t10%: -2.578\n"
     ]
    }
   ],
   "source": [
    "# EXPLORE - IS OUR TIME SERIES STATIONARY OR NOT?\n",
    "\n",
    "result = adfuller(series1['Sales'], autolag='AIC')\n",
    "\n",
    "print('ADF Statistic: %f' % result[0])\n",
    "print('p-value: %f' % result[1])\n",
    "print('Critical Values:')\n",
    "for key, value in result[4].items():\n",
    "\tprint('\\t%s: %.3f' % (key, value))"
   ]
  },
  {
   "cell_type": "code",
   "execution_count": null,
   "metadata": {
    "colab": {
     "base_uri": "https://localhost:8080/",
     "height": 410
    },
    "id": "qVw3h0IMHZwD",
    "outputId": "8cef6aa1-ef4c-4827-8492-26e6ad77d652"
   },
   "outputs": [
    {
     "name": "stdout",
     "output_type": "stream",
     "text": [
      "ADF Statistic: -8.892005\n",
      "p-value: 0.000000\n",
      "Critical Values:\n",
      "\t1%: -3.506\n",
      "\t5%: -2.895\n",
      "\t10%: -2.584\n"
     ]
    },
    {
     "data": {
      "text/plain": [
       "<matplotlib.axes._subplots.AxesSubplot at 0x7fde125210f0>"
      ]
     },
     "execution_count": 9,
     "metadata": {
      "tags": []
     },
     "output_type": "execute_result"
    },
    {
     "data": {
      "image/png": "[encoded data removed]",
      "text/plain": [
       "<Figure size 432x288 with 1 Axes>"
      ]
     },
     "metadata": {
      "needs_background": "light",
      "tags": []
     },
     "output_type": "display_data"
    }
   ],
   "source": [
    "# SCRUB - OUR TIME SERIES IS NOT STATIONARY - WE NEED TO TAKE THE DIFFERENCE\n",
    " \n",
    "# create a differenced series\n",
    "def difference(dataset, interval=1):\n",
    "\tdiff = list()\n",
    "\tfor i in range(interval, len(dataset)):\n",
    "\t\tvalue = dataset[i] - dataset[i - interval]\n",
    "\t\tdiff.append(value)\n",
    "\treturn pd.Series(diff)\n",
    "\n",
    "\n",
    "X = series1['Sales']\n",
    "X = X.astype('float32')\n",
    "# difference data\n",
    "weeks_in_year = 52\n",
    "stationary = difference(X, weeks_in_year)\n",
    "stationary.index = series1.index[weeks_in_year:]\n",
    "# check if stationary\n",
    "result = adfuller(stationary)\n",
    "print('ADF Statistic: %f' % result[0])\n",
    "print('p-value: %f' % result[1])\n",
    "print('Critical Values:')\n",
    "for key, value in result[4].items():\n",
    "\tprint('\\t%s: %.3f' % (key, value))\n",
    "\n",
    "# plot\n",
    "stationary.plot()\n"
   ]
  },
  {
   "cell_type": "markdown",
   "metadata": {
    "id": "30sss3SJNFT9"
   },
   "source": [
    "The first differenced series1 is stationary - now we can explore some models."
   ]
  },
  {
   "cell_type": "code",
   "execution_count": null,
   "metadata": {
    "id": "lfyORZwZHZwG"
   },
   "outputs": [],
   "source": [
    "# SCRUB - SOME CODE TO INVERT DIFFERENCE VALUE\n",
    "\n",
    "def inverse_difference(history, yhat, interval=1):\n",
    "\treturn yhat + history[-interval]"
   ]
  },
  {
   "cell_type": "code",
   "execution_count": null,
   "metadata": {
    "colab": {
     "base_uri": "https://localhost:8080/",
     "height": 545
    },
    "id": "nTStov9vHZwJ",
    "outputId": "eeb89a88-2cd5-41c4-ac63-c3e359cc6bcc"
   },
   "outputs": [
    {
     "data": {
      "image/png": "[encoded data removed]",
      "text/plain": [
       "<Figure size 432x288 with 1 Axes>"
      ]
     },
     "execution_count": 11,
     "metadata": {
      "tags": []
     },
     "output_type": "execute_result"
    },
    {
     "data": {
      "image/png": "[encoded data removed]",
      "text/plain": [
       "<Figure size 432x288 with 1 Axes>"
      ]
     },
     "metadata": {
      "needs_background": "light",
      "tags": []
     },
     "output_type": "display_data"
    }
   ],
   "source": [
    "# USING STATIONARY TIME SERIES LOOK AT ACF\n",
    "\n",
    "series = stationary\n",
    "\n",
    "plot_acf(series)\n"
   ]
  },
  {
   "cell_type": "markdown",
   "metadata": {
    "id": "vbgSQM4OOIy0"
   },
   "source": [
    "Depicts some minor seasonality in PACF still\n",
    "\n",
    "Starting point for **ARIMA** could be 2,1,3 (or 2,1,1)"
   ]
  },
  {
   "cell_type": "code",
   "execution_count": null,
   "metadata": {
    "colab": {
     "base_uri": "https://localhost:8080/",
     "height": 545
    },
    "id": "mN2HBLTOODcT",
    "outputId": "7c39a8d4-7b68-41a5-e727-d1b3002ade4f"
   },
   "outputs": [
    {
     "data": {
      "image/png": "[encoded data removed]",
      "text/plain": [
       "<Figure size 432x288 with 1 Axes>"
      ]
     },
     "execution_count": 12,
     "metadata": {
      "tags": []
     },
     "output_type": "execute_result"
    },
    {
     "data": {
      "image/png": "[encoded data removed]",
      "text/plain": [
       "<Figure size 432x288 with 1 Axes>"
      ]
     },
     "metadata": {
      "needs_background": "light",
      "tags": []
     },
     "output_type": "display_data"
    }
   ],
   "source": [
    "# USING STATIONARY TIME SERIES LOOK FOR PACF\n",
    "\n",
    "plot_pacf(series)\n"
   ]
  },
  {
   "cell_type": "code",
   "execution_count": null,
   "metadata": {
    "colab": {
     "base_uri": "https://localhost:8080/"
    },
    "id": "Tj1bU-TUHZwW",
    "outputId": "2b384bed-5dcb-4b1e-d2f5-eb99f049a348"
   },
   "outputs": [
    {
     "name": "stdout",
     "output_type": "stream",
     "text": [
      ">Predicted=16111.646, Expected=14978\n",
      ">Predicted=14791.484, Expected=15683\n",
      ">Predicted=16067.750, Expected=15364\n",
      ">Predicted=16370.879, Expected=16149\n",
      ">Predicted=15580.162, Expected=15655\n",
      ">Predicted=14122.381, Expected=15767\n",
      ">Predicted=16335.969, Expected=15922\n",
      ">Predicted=17266.652, Expected=15296\n",
      ">Predicted=12442.037, Expected=14540\n",
      ">Predicted=16304.131, Expected=14689\n",
      ">Predicted=14197.763, Expected=14537\n",
      ">Predicted=14947.763, Expected=15277\n",
      ">Predicted=17407.034, Expected=17747\n",
      ">Predicted=18932.359, Expected=18535\n",
      ">Predicted=16966.564, Expected=17859\n",
      ">Predicted=20159.738, Expected=18338\n",
      ">Predicted=20941.320, Expected=20798\n",
      ">Predicted=24796.508, Expected=23078\n",
      ">Predicted=21617.366, Expected=23352\n",
      ">Predicted=37539.425, Expected=31580\n",
      ">Predicted=24987.213, Expected=39886\n",
      ">Predicted=30742.259, Expected=18690\n",
      ">Predicted=12110.121, Expected=19051\n",
      ">Predicted=20839.454, Expected=20911\n",
      ">Predicted=25025.422, Expected=25293\n",
      ">Predicted=33442.430, Expected=33306\n",
      ">Predicted=46256.516, Expected=45773\n",
      ">Predicted=56954.665, Expected=46789\n",
      ">Predicted=8183.473, Expected=23351\n",
      ">Predicted=26292.381, Expected=16568\n",
      ">Predicted=12843.961, Expected=16894\n",
      ">Predicted=17932.544, Expected=18365\n",
      ">Predicted=20034.763, Expected=18378\n",
      ">Predicted=20940.857, Expected=23510\n",
      ">Predicted=40357.331, Expected=36988\n",
      ">Predicted=44947.211, Expected=54060\n",
      ">Predicted=28498.251, Expected=20124\n",
      ">Predicted=17811.201, Expected=20113\n",
      ">Predicted=22970.194, Expected=21140\n",
      ">Predicted=20502.788, Expected=22367\n",
      ">Predicted=23123.684, Expected=22108\n",
      ">Predicted=20866.319, Expected=28953\n",
      ">Predicted=33442.378, Expected=57592\n",
      ">Predicted=63860.017, Expected=34684\n",
      ">Predicted=47804.861, Expected=16976\n",
      ">Predicted=15696.025, Expected=16348\n",
      ">Predicted=15516.189, Expected=17147\n",
      ">Predicted=13330.566, Expected=18164\n",
      ">Predicted=5710.364, Expected=18518\n",
      ">Predicted=17717.304, Expected=16964\n",
      ">Predicted=16175.844, Expected=16065\n",
      ">Predicted=16251.698, Expected=17666\n",
      ">Predicted=17843.614, Expected=17559\n",
      ">Predicted=17400.031, Expected=16633\n",
      ">Predicted=15680.978, Expected=15723\n",
      ">Predicted=17165.649, Expected=17823\n",
      ">Predicted=17816.081, Expected=16566\n",
      ">Predicted=15946.053, Expected=16348\n",
      ">Predicted=16803.461, Expected=15731\n",
      ">Predicted=15131.723, Expected=16628\n",
      ">Predicted=16476.933, Expected=16120\n",
      ">Predicted=15603.921, Expected=17331\n",
      ">Predicted=17236.207, Expected=16286\n",
      ">Predicted=16390.612, Expected=16680\n",
      ">Predicted=19506.837, Expected=18322\n",
      ">Predicted=19137.485, Expected=19616\n",
      ">Predicted=19404.920, Expected=19252\n",
      ">Predicted=19546.326, Expected=18948\n",
      ">Predicted=21136.799, Expected=21904\n",
      ">Predicted=24627.294, Expected=22764\n",
      ">Predicted=22578.410, Expected=24185\n",
      ">Predicted=33256.689, Expected=27391\n",
      "RMSE: 7271.052\n"
     ]
    }
   ],
   "source": [
    "# BUILD THE MODEL - USING ORIGINAL SERIES1 DATA\n",
    "\n",
    "# prepare data\n",
    "X = series1['Sales']\n",
    "X = X.astype('float32')\n",
    "train_size = int(len(X) * 0.50)\n",
    "train, test = X[0:train_size], X[train_size:]\n",
    "# walk-forward validation\n",
    "history = [x for x in train]\n",
    "predictions = list()\n",
    "for i in range(len(test)):\n",
    "\t# difference data\n",
    "\tweeks_in_year = 52\n",
    "\tdiff = difference(history, weeks_in_year)\n",
    "\t# predict\n",
    "\tmodel = ARIMA(diff, order=(2,1,0))\n",
    "\tmodel_fit = model.fit(trend='nc', disp=0)\n",
    "\tyhat = model_fit.forecast()[0]\n",
    "\tyhat = inverse_difference(history, yhat, weeks_in_year)\n",
    "\tpredictions.append(yhat)\n",
    "\t# observation\n",
    "\tobs = test[i]\n",
    "\thistory.append(obs)\n",
    "\tprint('>Predicted=%.3f, Expected=%3.f' % (yhat, obs))\n",
    "# report performance\n",
    "mse = mean_squared_error(test, predictions)\n",
    "rmse = sqrt(mse)\n",
    "print('RMSE: %.3f' % rmse)"
   ]
  },
  {
   "cell_type": "markdown",
   "metadata": {
    "id": "KdmZ_SeHXmkl"
   },
   "source": [
    "Okay - not bad - RMSE of 7271 - but we might be able to do better - how can conduct a review of all possible combinations of ARIMA models?"
   ]
  },
  {
   "cell_type": "code",
   "execution_count": null,
   "metadata": {
    "colab": {
     "base_uri": "https://localhost:8080/"
    },
    "id": "Jc-4niUPHZwY",
    "outputId": "24642a73-df40-4abf-844b-d4ca0844efda"
   },
   "outputs": [
    {
     "name": "stdout",
     "output_type": "stream",
     "text": [
      "ARIMA(0, 0, 1) RMSE=5988.700\n",
      "ARIMA(0, 1, 1) RMSE=8443.946\n",
      "ARIMA(0, 1, 2) RMSE=6087.683\n",
      "ARIMA(0, 1, 3) RMSE=7249.167\n",
      "ARIMA(0, 2, 1) RMSE=7823.737\n",
      "ARIMA(0, 2, 2) RMSE=8433.249\n",
      "ARIMA(1, 0, 0) RMSE=6539.042\n",
      "ARIMA(1, 0, 1) RMSE=6137.659\n",
      "ARIMA(1, 0, 2) RMSE=6509.125\n",
      "ARIMA(1, 0, 3) RMSE=6487.369\n",
      "ARIMA(1, 0, 4) RMSE=6438.030\n",
      "ARIMA(1, 1, 0) RMSE=8161.451\n",
      "ARIMA(1, 1, 1) RMSE=6784.357\n",
      "ARIMA(1, 2, 0) RMSE=10899.965\n",
      "ARIMA(2, 0, 0) RMSE=5920.842\n",
      "ARIMA(2, 0, 1) RMSE=5982.549\n",
      "ARIMA(2, 0, 2) RMSE=6435.288\n",
      "ARIMA(2, 0, 3) RMSE=6773.743\n",
      "ARIMA(2, 0, 4) RMSE=6931.470\n",
      "ARIMA(2, 1, 0) RMSE=7271.052\n",
      "ARIMA(2, 1, 1) RMSE=6027.716\n",
      "ARIMA(2, 2, 0) RMSE=9785.715\n",
      "ARIMA(3, 0, 0) RMSE=6012.409\n",
      "ARIMA(3, 0, 1) RMSE=5930.911\n",
      "ARIMA(3, 1, 0) RMSE=7265.130\n",
      "ARIMA(3, 2, 0) RMSE=9432.911\n",
      "ARIMA(4, 0, 0) RMSE=6016.021\n",
      "ARIMA(4, 0, 1) RMSE=6000.077\n",
      "ARIMA(4, 1, 0) RMSE=7151.360\n",
      "ARIMA(4, 2, 0) RMSE=9153.688\n",
      "ARIMA(5, 0, 0) RMSE=6065.363\n",
      "ARIMA(5, 0, 1) RMSE=6041.892\n",
      "ARIMA(5, 0, 2) RMSE=6498.314\n",
      "ARIMA(5, 1, 0) RMSE=6961.144\n",
      "ARIMA(5, 2, 0) RMSE=8915.554\n",
      "ARIMA(6, 0, 0) RMSE=6152.039\n",
      "ARIMA(6, 0, 1) RMSE=6585.006\n",
      "ARIMA(6, 1, 0) RMSE=7412.431\n",
      "ARIMA(6, 1, 1) RMSE=6995.134\n",
      "ARIMA(7, 0, 0) RMSE=6509.566\n",
      "ARIMA(7, 0, 1) RMSE=6811.815\n",
      "ARIMA(8, 1, 1) RMSE=7028.443\n",
      "ARIMA(8, 1, 2) RMSE=9182.966\n",
      "Best ARIMA(2, 0, 0) RMSE=5920.842\n"
     ]
    }
   ],
   "source": [
    "# CODE RUNS LONG FOR EVALUATION - approximately 34 mins on COLAB\n",
    "import warnings\n",
    "import numpy\n",
    "  \n",
    " \n",
    "# evaluate an ARIMA model for a given order (p,d,q) and return RMSE\n",
    "def evaluate_arima_model(X, arima_order):\n",
    "\t# prepare training dataset\n",
    "\tX = X.astype('float32')\n",
    "\ttrain_size = int(len(X) * 0.50)\n",
    "\ttrain, test = X[0:train_size], X[train_size:]\n",
    "\thistory = [x for x in train]\n",
    "\t# make predictions\n",
    "\tpredictions = list()\n",
    "\tfor t in range(len(test)):\n",
    "\t\t# difference data\n",
    "\t\tweeks_in_year = 52\n",
    "\t\tdiff = difference(history, weeks_in_year)\n",
    "\t\tmodel = ARIMA(diff, order=arima_order)\n",
    "\t\tmodel_fit = model.fit(trend='nc', disp=0)\n",
    "\t\tyhat = model_fit.forecast()[0]\n",
    "\t\tyhat = inverse_difference(history, yhat, weeks_in_year)\n",
    "\t\tpredictions.append(yhat)\n",
    "\t\thistory.append(test[t])\n",
    "\t# calculate out of sample error\n",
    "\tmse = mean_squared_error(test, predictions)\n",
    "\trmse = sqrt(mse)\n",
    "\treturn rmse\n",
    " \n",
    "# evaluate combinations of p, d and q values for an ARIMA model\n",
    "def evaluate_models(dataset, p_values, d_values, q_values):\n",
    "\tdataset = dataset.astype('float32')\n",
    "\tbest_score, best_cfg = float(\"inf\"), None\n",
    "\tfor p in p_values:\n",
    "\t\tfor d in d_values:\n",
    "\t\t\tfor q in q_values:\n",
    "\t\t\t\torder = (p,d,q)\n",
    "\t\t\t\ttry:\n",
    "\t\t\t\t\tmse = evaluate_arima_model(dataset, order)\n",
    "\t\t\t\t\tif mse < best_score:\n",
    "\t\t\t\t\t\tbest_score, best_cfg = mse, order\n",
    "\t\t\t\t\tprint('ARIMA%s RMSE=%.3f' % (order,mse))\n",
    "\t\t\t\texcept:\n",
    "\t\t\t\t\tcontinue\n",
    "\tprint('Best ARIMA%s RMSE=%.3f' % (best_cfg, best_score))\n",
    " \n",
    "# LOAD DATA\n",
    "\n",
    "series = series1['Sales']\n",
    "# evaluate parameters\n",
    "p_values = range(0, 9)\n",
    "d_values = range(0, 3)\n",
    "q_values = range(0, 9)\n",
    "warnings.filterwarnings(\"ignore\")\n",
    "evaluate_models(series.values, p_values, d_values, q_values)"
   ]
  },
  {
   "cell_type": "markdown",
   "metadata": {
    "id": "8hJiJ_tGi5_j"
   },
   "source": [
    "An ARIMA(2,0,0) model performs best - basically an AR(2) model -  "
   ]
  },
  {
   "cell_type": "code",
   "execution_count": null,
   "metadata": {
    "colab": {
     "base_uri": "https://localhost:8080/",
     "height": 699
    },
    "id": "pGn1spkrHZwb",
    "outputId": "636462c0-a4f9-462f-b68f-8f4875d2a310"
   },
   "outputs": [
    {
     "name": "stdout",
     "output_type": "stream",
     "text": [
      "                  0\n",
      "count     72.000000\n",
      "mean    -120.713277\n",
      "std     5961.152795\n",
      "min   -22349.378261\n",
      "25%    -1123.692182\n",
      "50%      293.717157\n",
      "75%     1455.025612\n",
      "max    28390.583692\n",
      "RMSE: 5920.842\n"
     ]
    },
    {
     "data": {
      "image/png": "[encoded data removed]",
      "text/plain": [
       "<Figure size 432x288 with 1 Axes>"
      ]
     },
     "metadata": {
      "needs_background": "light",
      "tags": []
     },
     "output_type": "display_data"
    },
    {
     "data": {
      "image/png": "[encoded data removed]",
      "text/plain": [
       "<Figure size 432x288 with 1 Axes>"
      ]
     },
     "metadata": {
      "needs_background": "light",
      "tags": []
     },
     "output_type": "display_data"
    }
   ],
   "source": [
    "#@title\n",
    "# SIMILAR BLOCK OF CODE - THIS ONE SAVES RESIDUALS FOR PLOTTING\n",
    "\n",
    "# create a differenced series\n",
    "def difference(dataset, interval=1):\n",
    "\tdiff = list()\n",
    "\tfor i in range(interval, len(dataset)):\n",
    "\t\tvalue = dataset[i] - dataset[i - interval]\n",
    "\t\tdiff.append(value)\n",
    "\treturn diff\n",
    " \n",
    "# invert differenced value\n",
    "def inverse_difference(history, yhat, interval=1):\n",
    "\treturn yhat + history[-interval]\n",
    " \n",
    "# load data\n",
    "series = series1['Sales']\n",
    "# prepare data\n",
    "X = series.values\n",
    "X = X.astype('float32')\n",
    "train_size = int(len(X) * 0.50)\n",
    "train, test = X[0:train_size], X[train_size:]\n",
    "# walk-forward validation\n",
    "history = [x for x in train]\n",
    "predictions = list()\n",
    "for i in range(len(test)):\n",
    "\t# difference data\n",
    "\tweeks_in_year = 52\n",
    "\tdiff = difference(history, weeks_in_year)\n",
    "\t# predict\n",
    "\tmodel = ARIMA(diff, order=(2,0,0))\n",
    "\tmodel_fit = model.fit(trend='nc', disp=0)\n",
    "\tyhat = model_fit.forecast()[0]\n",
    "\tyhat = inverse_difference(history, yhat, weeks_in_year)\n",
    "\tpredictions.append(yhat)\n",
    "\t# observation\n",
    "\tobs = test[i]\n",
    "\thistory.append(obs)\n",
    "# errors\n",
    "residuals = [test[i]-predictions[i] for i in range(len(test))]\n",
    "residuals = DataFrame(residuals)\n",
    "print(residuals.describe())\n",
    "# report performance\n",
    "mse = mean_squared_error(test, predictions)\n",
    "rmse = sqrt(mse)\n",
    "print('RMSE: %.3f' % rmse)\n",
    "# plot\n",
    "residuals.hist(ax=plt.gca())\n",
    "plt.show()\n",
    "\n",
    "residuals.plot(kind='kde', ax=plt.gca())\n",
    "plt.show()"
   ]
  },
  {
   "cell_type": "code",
   "execution_count": null,
   "metadata": {
    "id": "oHldeJcGHZwe",
    "outputId": "77711ef1-8f4e-40d2-bb91-a16aa629a661"
   },
   "outputs": [
    {
     "name": "stdout",
     "output_type": "stream",
     "text": [
      "                  0\n",
      "count  7.200000e+01\n",
      "mean  -1.502562e-07\n",
      "std    5.961152e+03\n",
      "min   -2.222866e+04\n",
      "25%   -1.002979e+03\n",
      "50%    4.144302e+02\n",
      "75%    1.575736e+03\n",
      "max    2.851129e+04\n",
      "RMSE: 5919.610\n"
     ]
    },
    {
     "data": {
      "image/png": "[encoded data removed]",
      "text/plain": [
       "<matplotlib.figure.Figure at 0x18c3b509780>"
      ]
     },
     "metadata": {
      "tags": []
     },
     "output_type": "display_data"
    },
    {
     "data": {
      "image/png": "[encoded data removed]",
      "text/plain": [
       "<matplotlib.figure.Figure at 0x18c3debe630>"
      ]
     },
     "metadata": {
      "tags": []
     },
     "output_type": "display_data"
    }
   ],
   "source": [
    "# MODEL - INTERPRET \n",
    "# RECREATE ANALYSIS WITH MEAN RESIDUAL ADDED TO EACH PREDICTION\n",
    "# create a differenced series\n",
    "def difference(dataset, interval=1):\n",
    "\tdiff = list()\n",
    "\tfor i in range(interval, len(dataset)):\n",
    "\t\tvalue = dataset[i] - dataset[i - interval]\n",
    "\t\tdiff.append(value)\n",
    "\treturn diff\n",
    " \n",
    "# invert differenced value\n",
    "def inverse_difference(history, yhat, interval=1):\n",
    "\treturn yhat + history[-interval]\n",
    " \n",
    "# load data\n",
    "series = series1['Sales']\n",
    "# prepare data\n",
    "X = series.values\n",
    "X = X.astype('float32')\n",
    "train_size = int(len(X) * 0.50)\n",
    "train, test = X[0:train_size], X[train_size:]\n",
    "# walk-forward validation\n",
    "history = [x for x in train]\n",
    "predictions = list()\n",
    "bias = -120.713087\n",
    "for i in range(len(test)):\n",
    "\t# difference data\n",
    "\tweeks_in_year = 52\n",
    "\tdiff = difference(history, weeks_in_year)\n",
    "\t# predict\n",
    "\tmodel = ARIMA(diff, order=(2,0,0))\n",
    "\tmodel_fit = model.fit(trend='nc', disp=0)\n",
    "\tyhat = model_fit.forecast()[0]\n",
    "\tyhat = bias + inverse_difference(history, yhat, weeks_in_year)\n",
    "\tpredictions.append(yhat)\n",
    "\t# observation\n",
    "\tobs = test[i]\n",
    "\thistory.append(obs)\n",
    "# errors\n",
    "residuals = [test[i]-predictions[i] for i in range(len(test))]\n",
    "residuals = DataFrame(residuals)\n",
    "print(residuals.describe())\n",
    "# report performance\n",
    "mse = mean_squared_error(test, predictions)\n",
    "rmse = sqrt(mse)\n",
    "print('RMSE: %.3f' % rmse)\n",
    "# plot\n",
    "residuals.hist(ax=plt.gca())\n",
    "plt.show()\n",
    "\n",
    "residuals.plot(kind='kde', ax=plt.gca())\n",
    "plt.show()"
   ]
  },
  {
   "cell_type": "code",
   "execution_count": null,
   "metadata": {
    "colab": {
     "base_uri": "https://localhost:8080/",
     "height": 545
    },
    "id": "ahQt_cJHHZwg",
    "outputId": "0c724bea-8fae-4821-a992-24e7af701156"
   },
   "outputs": [
    {
     "data": {
      "image/png": "[encoded data removed]",
      "text/plain": [
       "<Figure size 432x288 with 1 Axes>"
      ]
     },
     "metadata": {
      "needs_background": "light",
      "tags": []
     },
     "output_type": "display_data"
    },
    {
     "data": {
      "image/png": "[encoded data removed]",
      "text/plain": [
       "<Figure size 432x288 with 1 Axes>"
      ]
     },
     "metadata": {
      "needs_background": "light",
      "tags": []
     },
     "output_type": "display_data"
    }
   ],
   "source": [
    "# INTERPRET -LOOK AT ACF AND PACF FOR RESIDUALS\n",
    "# Ideally all residuals are not significant and mean==0\n",
    "plot_acf(residuals, ax=plt.gca())\n",
    "plt.show()\n",
    "\n",
    "plot_pacf(residuals, ax=plt.gca())\n",
    "plt.show()"
   ]
  },
  {
   "cell_type": "code",
   "execution_count": null,
   "metadata": {
    "id": "q0VR3mSJHZwk"
   },
   "outputs": [],
   "source": [
    "# MODEL - CODE FROM BROWNLEE FOR SAVING MODEL\n",
    "# NOTE:  This will save in your google drive UNLESS you specified a particular\n",
    "# working directory\n",
    "\n",
    "# monkey patch around bug in ARIMA class\n",
    "def __getnewargs__(self):\n",
    "\treturn ((self.endog),(self.k_lags, self.k_diff, self.k_ma))\n",
    "\n",
    "ARIMA.__getnewargs__ = __getnewargs__\n",
    "\n",
    "# create a differenced series\n",
    "def difference(dataset, interval=1):\n",
    "\tdiff = list()\n",
    "\tfor i in range(interval, len(dataset)):\n",
    "\t\tvalue = dataset[i] - dataset[i - interval]\n",
    "\t\tdiff.append(value)\n",
    "\treturn diff\n",
    "\n",
    "# prepare data\n",
    "X = series1['Sales']\n",
    "X = X.astype('float32')\n",
    "# difference data\n",
    "weeks_in_year = 52\n",
    "diff = difference(X, weeks_in_year)\n",
    "# fit model\n",
    "model = ARIMA(diff, order=(2,0,0))\n",
    "model_fit = model.fit(trend='nc', disp=0)\n",
    "# bias constant, could be calculated from in-sample mean residual - CHANGED TO ZERO\n",
    "bias = 0\n",
    "# save model\n",
    "model_fit.save('model.pkl')\n",
    "numpy.save('model_bias.npy', [bias])\n"
   ]
  },
  {
   "cell_type": "code",
   "execution_count": null,
   "metadata": {
    "colab": {
     "base_uri": "https://localhost:8080/"
    },
    "id": "F8Rx9El7HZwo",
    "outputId": "090759e4-4f46-4ee5-ccb1-06d9ddf958f4"
   },
   "outputs": [
    {
     "name": "stdout",
     "output_type": "stream",
     "text": [
      "Predicted: 36609.785\n"
     ]
    }
   ],
   "source": [
    "# MODEL\n",
    "# CODE FOR MAKING PREDICTION USING SAVED MODEL - LOOKING ONE STEP AHEAD\n",
    "\n",
    "def inverse_difference(history, yhat, interval=1):\n",
    "\treturn yhat + history[-interval]\n",
    "\n",
    "series = series1['Sales']\n",
    "weeks_in_year = 52\n",
    "model_fit = ARIMAResults.load('model.pkl')\n",
    "bias = numpy.load('model_bias.npy')\n",
    "yhat = float(model_fit.forecast()[0])\n",
    "yhat = bias + inverse_difference(series.values, yhat, weeks_in_year)\n",
    "print('Predicted: %.3f' % yhat)"
   ]
  },
  {
   "cell_type": "markdown",
   "metadata": {
    "id": "SQlhevJzgcRn"
   },
   "source": [
    "Following functions provide for creating test & train | differenced series | inverse of difference"
   ]
  },
  {
   "cell_type": "code",
   "execution_count": null,
   "metadata": {
    "colab": {
     "base_uri": "https://localhost:8080/"
    },
    "id": "nsqUYB8GHZwM",
    "outputId": "f75a25a2-35b7-4191-d2ac-85ddd15ebafb"
   },
   "outputs": [
    {
     "name": "stdout",
     "output_type": "stream",
     "text": [
      "Dataset 130, Validation 13\n"
     ]
    }
   ],
   "source": [
    "# INTERPRET - CREATE TRAIN-TEST DATA\n",
    "# DATA IS WEEKLY FOR 2+ years\n",
    "# KEEP ONE QUARTER - 13 weeks - AS THE TEST DATA\n",
    "series1 = pd.read_csv('https://raw.githubusercontent.com/2SUBDA/Block2_Walk/Week_4/Dept1.csv', header=0,\n",
    "                      index_col=\"Date\", parse_dates=[\"Date\"])\n",
    "split_point = len(series) - 13\n",
    "dataset, validation = series[0:split_point], series[split_point:]\n",
    "print('Dataset %d, Validation %d' % (len(dataset), len(validation)))\n",
    "\n",
    "# STORES TO LOCAL DRIVE\n",
    "dataset.to_csv('dataset.csv')\n",
    "validation.to_csv('validation.csv')"
   ]
  },
  {
   "cell_type": "code",
   "execution_count": null,
   "metadata": {
    "colab": {
     "base_uri": "https://localhost:8080/",
     "height": 503
    },
    "id": "FdRvi1wiHZwq",
    "outputId": "d0e994b9-f34b-463f-e340-eadb5ed433a8"
   },
   "outputs": [
    {
     "name": "stdout",
     "output_type": "stream",
     "text": [
      ">Predicted=36609.783, Expected=16628\n",
      ">Predicted=4815.946, Expected=16120\n",
      ">Predicted=29520.368, Expected=17331\n",
      ">Predicted=21045.112, Expected=16286\n",
      ">Predicted=23156.078, Expected=16680\n",
      ">Predicted=29973.427, Expected=18322\n",
      ">Predicted=40053.968, Expected=19616\n",
      ">Predicted=35770.611, Expected=19252\n",
      ">Predicted=15166.272, Expected=18948\n",
      ">Predicted=26277.351, Expected=21904\n",
      ">Predicted=22751.642, Expected=22764\n",
      ">Predicted=20186.192, Expected=24185\n",
      ">Predicted=19939.586, Expected=27391\n",
      "RMSE: 11339.089\n"
     ]
    },
    {
     "data": {
      "image/png": "[encoded data removed]",
      "text/plain": [
       "<Figure size 432x288 with 1 Axes>"
      ]
     },
     "metadata": {
      "needs_background": "light",
      "tags": []
     },
     "output_type": "display_data"
    }
   ],
   "source": [
    "# MODEL & INTERPRET - \n",
    "# CODE FOR MAKING PREDICTION USING SAVED MODEL - LOOKING MANY STEPS AHEAD\n",
    "# NEED VALIDATION FILE FROM ABOVE\n",
    "\n",
    "\n",
    "def difference(dataset, interval=1):\n",
    "\tdiff = list()\n",
    "\tfor i in range(interval, len(dataset)):\n",
    "\t\tvalue = dataset[i] - dataset[i - interval]\n",
    "\t\tdiff.append(value)\n",
    "\treturn diff\n",
    " \n",
    "# invert differenced value\n",
    "def inverse_difference(history, yhat, interval=1):\n",
    "\treturn yhat + history[-interval]\n",
    " \n",
    "# load and prepare datasets\n",
    "dataset = series1['Sales']\n",
    "X = dataset.values.astype('float32')\n",
    "history = [x for x in X]\n",
    "weeks_in_year = 52\n",
    "#validation = Series.from_csv('validation.csv', header=0)\n",
    "y = validation.values.astype('float32')\n",
    "# load model\n",
    "model_fit = ARIMAResults.load('model.pkl')\n",
    "bias = numpy.load('model_bias.npy')\n",
    "# make first prediction\n",
    "predictions = list()\n",
    "yhat = float(model_fit.forecast()[0])\n",
    "yhat = bias + inverse_difference(history, yhat, weeks_in_year)\n",
    "predictions.append(yhat)\n",
    "history.append(y[0])\n",
    "print('>Predicted=%.3f, Expected=%3.f' % (yhat, y[0]))\n",
    "# rolling forecasts\n",
    "for i in range(1, len(y)):\n",
    "\t# difference data\n",
    "\tweeks_in_year = 52\n",
    "\tdiff = difference(history, weeks_in_year)\n",
    "\t# predict\n",
    "\tmodel = ARIMA(diff, order=(2,0,0))\n",
    "\tmodel_fit = model.fit(trend='nc', disp=0)\n",
    "\tyhat = model_fit.forecast()[0]\n",
    "\tyhat = bias + inverse_difference(history, yhat, weeks_in_year)\n",
    "\tpredictions.append(yhat)\n",
    "\t# observation\n",
    "\tobs = y[i]\n",
    "\thistory.append(obs)\n",
    "\tprint('>Predicted=%.3f, Expected=%3.f' % (yhat, obs))\n",
    "# report performance\n",
    "mse = mean_squared_error(y, predictions)\n",
    "rmse = sqrt(mse)\n",
    "print('RMSE: %.3f' % rmse)\n",
    "plt.plot(y)\n",
    "plt.plot(predictions, color='red')\n",
    "plt.show()"
   ]
  }
 ],
 "metadata": {
  "colab": {
   "include_colab_link": true,
   "name": "Week4_Asynch_TimeSeries_ARIMA.ipynb",
   "provenance": []
  },
  "kernelspec": {
   "display_name": "Python 3 (ipykernel)",
   "language": "python",
   "name": "python3"
  },
  "language_info": {
   "codemirror_mode": {
    "name": "ipython",
    "version": 3
   },
   "file_extension": ".py",
   "mimetype": "text/x-python",
   "name": "python",
   "nbconvert_exporter": "python",
   "pygments_lexer": "ipython3",
   "version": "3.8.11"
  }
 },
 "nbformat": 4,
 "nbformat_minor": 1
}
