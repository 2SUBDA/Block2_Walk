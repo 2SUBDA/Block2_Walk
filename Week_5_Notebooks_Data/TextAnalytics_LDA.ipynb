{
 "cells": [
  {
   "cell_type": "code",
   "execution_count": 2,
   "metadata": {
    "collapsed": true
   },
   "outputs": [],
   "source": [
    "# SAMPLE CODE FROM TOWARDS DATA SCIENCE\n",
    "# USING SVM FOR CLASSIFYING DOCUMENTS\n",
    "# DATA FROM http://qwone.com/~jason/20Newsgroups/\n",
    "\n",
    "import numpy as np\n",
    "\n",
    "from sklearn.datasets import fetch_20newsgroups\n",
    "\n",
    "from sklearn.feature_extraction.text import CountVectorizer\n",
    "from sklearn.feature_extraction.text import TfidfTransformer\n",
    "from sklearn.pipeline import Pipeline\n",
    "\n",
    "from sklearn.decomposition import LatentDirichletAllocation\n",
    "\n",
    "from sklearn.linear_model import SGDClassifier\n",
    "from sklearn.model_selection import GridSearchCV\n"
   ]
  },
  {
   "cell_type": "code",
   "execution_count": 3,
   "metadata": {
    "collapsed": true
   },
   "outputs": [],
   "source": [
    "# OBTAIN\n",
    "\n",
    "# TRAIN DATA\n",
    "twenty_train = fetch_20newsgroups(subset='train', shuffle=True)\n",
    "\n",
    "# TEST DATA\n",
    "twenty_test = fetch_20newsgroups(subset='test', shuffle=True)"
   ]
  },
  {
   "cell_type": "code",
   "execution_count": 4,
   "metadata": {},
   "outputs": [
    {
     "name": "stdout",
     "output_type": "stream",
     "text": [
      "From: dfo@vttoulu.tko.vtt.fi (Foxvog Douglas)\n",
      "Subject: Re: Rewording the Second Amendment (ideas)\n",
      "Organization: VTT\n",
      "Lines: 58\n",
      "\n",
      "In article <1r1eu1$4t@transfer.stratus.com> cdt@sw.stratus.com (C. D. Tavares) writes:\n",
      ">In article <1993Apr20.083057.16899@ousrvr.oulu.fi>, dfo@vttoulu.tko.vtt.fi (Foxvog Douglas) writes:\n",
      ">> In article <1qv87v$4j3@transfer.stratus.com> cdt@sw.stratus.com (C. D. Tavares) writes:\n",
      ">> >In article <C5n3GI.F8F@ulowell.ulowell.edu>, jrutledg@cs.ulowell.edu (John Lawrence Rutledge) writes:\n",
      ">\n",
      ">> >> The massive destructive power of many modern weapons, makes the\n",
      ">> >> cost of an accidental or crimial usage of these weapons to great.\n",
      ">> >> The weapons of mass destruction need to be in the control of\n",
      ">> >> the government only.  Individual access would result in the\n",
      ">> >> needless deaths of millions.  This makes the right of the people\n",
      ">> >> to keep and bear many modern weapons non-existant.\n",
      "\n",
      ">> >Thanks for stating where you're coming from.  Needless to say, I\n",
      ">> >disagree on every count.\n",
      "\n"
     ]
    }
   ],
   "source": [
    "# EXPLORE\n",
    "# CHECK TO SEE WHAT AN ENTRY LOOKS LIKE\n",
    "# THIS CODE IS 20 LINES FROM ENTRY 5\n",
    "\n",
    "print(\"\\n\".join(twenty_train.data[5].split(\"\\n\")[:20])) "
   ]
  },
  {
   "cell_type": "code",
   "execution_count": 5,
   "metadata": {},
   "outputs": [
    {
     "data": {
      "text/plain": [
       "['alt.atheism',\n",
       " 'comp.graphics',\n",
       " 'comp.os.ms-windows.misc',\n",
       " 'comp.sys.ibm.pc.hardware',\n",
       " 'comp.sys.mac.hardware',\n",
       " 'comp.windows.x',\n",
       " 'misc.forsale',\n",
       " 'rec.autos',\n",
       " 'rec.motorcycles',\n",
       " 'rec.sport.baseball',\n",
       " 'rec.sport.hockey',\n",
       " 'sci.crypt',\n",
       " 'sci.electronics',\n",
       " 'sci.med',\n",
       " 'sci.space',\n",
       " 'soc.religion.christian',\n",
       " 'talk.politics.guns',\n",
       " 'talk.politics.mideast',\n",
       " 'talk.politics.misc',\n",
       " 'talk.religion.misc']"
      ]
     },
     "execution_count": 5,
     "metadata": {},
     "output_type": "execute_result"
    }
   ],
   "source": [
    "# EXPLORE\n",
    "# SHOW THE CURRENT TARGET NAMES\n",
    "\n",
    "twenty_train.target_names"
   ]
  },
  {
   "cell_type": "code",
   "execution_count": 12,
   "metadata": {},
   "outputs": [
    {
     "data": {
      "text/plain": [
       "(11314, 1000)"
      ]
     },
     "execution_count": 12,
     "metadata": {},
     "output_type": "execute_result"
    }
   ],
   "source": [
    "# EXPLORE\n",
    "# EXTRACT FEATURES - DOCUMENT TERM MATRIX\n",
    "\n",
    "no_features = 1000\n",
    "\n",
    "count_vect = CountVectorizer(max_df=0.95, min_df=2, max_features=no_features, stop_words='english')\n",
    "X_train_counts = count_vect.fit_transform(twenty_train.data)\n",
    "X_train_features = count_vect.get_feature_names()\n",
    "X_train_counts.shape"
   ]
  },
  {
   "cell_type": "code",
   "execution_count": 10,
   "metadata": {},
   "outputs": [
    {
     "name": "stderr",
     "output_type": "stream",
     "text": [
      "C:\\Users\\datab\\Anaconda3\\lib\\site-packages\\sklearn\\decomposition\\online_lda.py:294: DeprecationWarning: n_topics has been renamed to n_components in version 0.19 and will be removed in 0.21\n",
      "  DeprecationWarning)\n"
     ]
    }
   ],
   "source": [
    "# MODEL\n",
    "# USING LDA\n",
    "\n",
    "no_topics = 20\n",
    "\n",
    "lda = LatentDirichletAllocation(n_topics=no_topics, max_iter=5, learning_method='online', learning_offset=50.,random_state=0).fit(X_train_counts)\n"
   ]
  },
  {
   "cell_type": "code",
   "execution_count": 26,
   "metadata": {},
   "outputs": [
    {
     "name": "stdout",
     "output_type": "stream",
     "text": [
      "Topic 0:\n",
      "spacegovnasanetcomaccessearthresearchcentermoondigex\n",
      "Topic 1:\n",
      "keygovernmentchipencryptionclipperpresident__keysclintonsecurity\n",
      "Topic 2:\n",
      "filewindowsprogramfilesftpavailableimageservereduversion\n",
      "Topic 3:\n",
      "eduwritesarticlestateorguiucohiouniversityacscso\n",
      "Topic 4:\n",
      "godjesuspeoplechristianbelievebiblechristiansdoeschurchsay\n",
      "Topic 5:\n",
      "problemtimeuseworkusinghpveproblemsdoesused\n",
      "Topic 6:\n",
      "educsccwritesuniversityarticlesciencepittcolumbiacomputer\n",
      "Topic 7:\n",
      "peoplegovernmentturkishwararmenianarmeniansworldsaidchildrenyears\n",
      "Topic 8:\n",
      "cateamgameeduyeargameshockeyplayseasonplayers\n",
      "Topic 9:\n",
      "mitwindowcodenumberdboutputsourceapplicationmotifwidget\n",
      "Topic 10:\n",
      "commailsoftwaresalefaxinternetgraphicslistemailinformation\n",
      "Topic 11:\n",
      "1000199325151620111412\n",
      "Topic 12:\n",
      "drivecardscsimacappleibmdiskdoswindowspc\n",
      "Topic 13:\n",
      "axmaxg9vb8fa860d145pl1d934u\n",
      "Topic 14:\n",
      "edukeithwritestechnologyinstitutecaltechsgiinsurancecwruindiana\n",
      "Topic 15:\n",
      "uklawacpeoplerightshumanpersonlawsstatecase\n",
      "Topic 16:\n",
      "edupostinghostnntpuniversityarticledistributionwritesthanksreply\n",
      "Topic 17:\n",
      "justlikedongoodcarcomthinkpeoplereallybetter\n",
      "Topic 18:\n",
      "knowdonthinksaidjustdidisraelpeoplelikegoing\n",
      "Topic 19:\n",
      "comwritesarticleguncabikedongunspostingvirginia\n"
     ]
    }
   ],
   "source": [
    "# MODEL\n",
    "# DISPLAY TOP 10 TOPICS\n",
    "\n",
    "def display_topics(model, feature_names, no_top_words):\n",
    "    for topic_idx, topic in enumerate(model.components_):\n",
    "        print (\"Topic %d:\" % (topic_idx))\n",
    "        print (\"\".join([feature_names[i]\n",
    "                        for i in topic.argsort()[:-no_top_words - 1:-1]]))\n",
    "\n",
    "no_top_words = 10\n",
    "display_topics(lda, X_train_features, no_top_words)"
   ]
  },
  {
   "cell_type": "code",
   "execution_count": null,
   "metadata": {
    "collapsed": true
   },
   "outputs": [],
   "source": []
  }
 ],
 "metadata": {
  "kernelspec": {
   "display_name": "Python 3",
   "language": "python",
   "name": "python3"
  },
  "language_info": {
   "codemirror_mode": {
    "name": "ipython",
    "version": 3
   },
   "file_extension": ".py",
   "mimetype": "text/x-python",
   "name": "python",
   "nbconvert_exporter": "python",
   "pygments_lexer": "ipython3",
   "version": "3.6.2"
  }
 },
 "nbformat": 4,
 "nbformat_minor": 2
}
